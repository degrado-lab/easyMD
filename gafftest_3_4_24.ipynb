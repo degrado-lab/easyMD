{
 "cells": [
  {
   "cell_type": "code",
   "execution_count": 7,
   "metadata": {},
   "outputs": [
    {
     "name": "stdout",
     "output_type": "stream",
     "text": [
      "BNZ\n",
      "EPE\n"
     ]
    }
   ],
   "source": [
    "from openff.toolkit import Molecule\n",
    "molecule = Molecule.from_smiles('c1ccccc1')\n",
    "\n",
    "from openmmforcefields.generators import GAFFTemplateGenerator\n",
    "gaff = GAFFTemplateGenerator(molecules=molecule)\n",
    "\n",
    "from openmm.app import ForceField\n",
    "forcefield = ForceField('amber/protein.ff14SB.xml', 'amber/tip3p_standard.xml', 'amber/tip3p_HFE_multivalent.xml')\n",
    "\n",
    "forcefield.registerTemplateGenerator(gaff.generator)\n",
    "\n",
    "#from openmm.app import PDBFile\n",
    "#pdbfile = PDBFile('4W52_h.pdb')\n",
    "\n",
    "from pdbfixer import PDBFixer\n",
    "\n",
    "#fix it:\n",
    "pdb = PDBFixer(str('4W52_h.pdb'))\n",
    "### Fix messed up residues\n",
    "pdb.findMissingResidues()\n",
    "#pdb.findNonstandardResidues()\n",
    "#pdb.replaceNonstandardResidues() \n",
    "pdb.findMissingAtoms()\n",
    "pdb.addMissingAtoms()    #this adds both missing atoms and residues \n",
    "\n",
    "#add hydrogens:\n",
    "pdb.addMissingHydrogens(7.0)\n",
    "\n",
    "#print the names of all non-standard residues:\n",
    "standard_residues = ['ALA', 'ARG', 'ASN', 'ASP', 'CYS', 'GLN', 'GLU', 'GLY', 'HIS', 'ILE', 'LEU', 'LYS', 'MET', 'PHE', 'PRO', 'SER', 'THR', 'TRP', 'TYR', 'VAL', 'HOH']\n",
    "for residue in pdb.topology.residues():\n",
    "    if residue.name not in standard_residues:\n",
    "        print(residue.name)\n",
    "\n",
    "#make a Modeller object:\n",
    "from openmm.app import Modeller\n",
    "modeller = Modeller(pdb.topology, pdb.positions)\n",
    "\n",
    "#delete EPE:\n",
    "to_delete = []\n",
    "for residue in modeller.topology.residues():\n",
    "    if residue.name == 'EPE':\n",
    "        to_delete.append(residue)\n",
    "modeller.delete(to_delete)\n",
    "\n",
    "#system = forcefield.createSystem(pdb.topology)\n",
    "system = forcefield.createSystem(modeller.topology)"
   ]
  },
  {
   "cell_type": "code",
   "execution_count": 16,
   "metadata": {},
   "outputs": [],
   "source": [
    "#integrator:\n",
    "from openmm import LangevinIntegrator\n",
    "from openmm import unit\n",
    "integrator = LangevinIntegrator(300*unit.kelvin, 1/unit.picosecond, 2*unit.femtoseconds)\n",
    "\n",
    "#simulation:\n",
    "from openmm.app import Simulation\n",
    "simulation = Simulation(modeller.topology, system, integrator)\n",
    "simulation.context.setPositions(modeller.positions)\n",
    "\n",
    "#minimize:\n",
    "simulation.minimizeEnergy()\n",
    "from pathlib import Path\n",
    "input_pdb_file = '4W52_h.pdb'\n",
    "PDBFile.writeFile(simulation.topology, simulation.context.getState(getPositions=True).getPositions(), str( (str(Path(input_pdb_file).stem) + '_minim.pdb')))\n",
    "\n",
    "#report:\n",
    "from openmm.app import PDBFile\n",
    "from openmm.app import DCDReporter\n",
    "reporting_interval = 10\n",
    "simulation.reporters.append(DCDReporter((str(Path(input_pdb_file).stem) + '_equil.dcd'), reporting_interval))\n",
    "\n",
    "#run:\n",
    "simulation.step(1000)"
   ]
  },
  {
   "cell_type": "code",
   "execution_count": 25,
   "metadata": {},
   "outputs": [
    {
     "data": {
      "application/vnd.jupyter.widget-view+json": {
       "model_id": "80cb2e3407ba480b8fec27e004d7a8bb",
       "version_major": 2,
       "version_minor": 0
      },
      "text/plain": [
       "NGLWidget(max_frame=99)"
      ]
     },
     "metadata": {},
     "output_type": "display_data"
    }
   ],
   "source": [
    "import mdtraj as md\n",
    "traj = md.load(\n",
    "    str((str(Path(input_pdb_file).stem) + '_equil.dcd')),\n",
    "    top = str( (str(Path(input_pdb_file).stem) + '_minim.pdb'))            #get topology from processed pdb\n",
    ")\n",
    "\n",
    "#center the trajectory around the protein (to stop periodic boundary artifacts)\n",
    "protein = traj.topology.guess_anchor_molecules()\n",
    "centered_traj = traj.image_molecules(anchor_molecules=protein)\n",
    "\n",
    "#first let's make copy of trajectory without water:\n",
    "traj_no_water = centered_traj.atom_slice(centered_traj.topology.select('not water'))\n",
    "\n",
    "import nglview as nv\n",
    "view = nv.show_mdtraj(traj_no_water)\n",
    "view.add_representation('cartoon', selection=\"protein\")\n",
    "view._set_size('1600px', '800px')\n",
    "#view.add_representation('ball+stick', selection='water', opacity=0.1)\n",
    "view"
   ]
  },
  {
   "cell_type": "code",
   "execution_count": 22,
   "metadata": {},
   "outputs": [
    {
     "ename": "AttributeError",
     "evalue": "'str' object has no attribute '__module__'",
     "output_type": "error",
     "traceback": [
      "\u001b[0;31m---------------------------------------------------------------------------\u001b[0m",
      "\u001b[0;31mAttributeError\u001b[0m                            Traceback (most recent call last)",
      "Cell \u001b[0;32mIn[22], line 4\u001b[0m\n\u001b[1;32m      2\u001b[0m \u001b[38;5;28;01mimport\u001b[39;00m \u001b[38;5;21;01mnglview\u001b[39;00m\n\u001b[1;32m      3\u001b[0m view \u001b[38;5;241m=\u001b[39m nglview\u001b[38;5;241m.\u001b[39mshow_structure_file((\u001b[38;5;28mstr\u001b[39m(Path(input_pdb_file)\u001b[38;5;241m.\u001b[39mstem) \u001b[38;5;241m+\u001b[39m \u001b[38;5;124m'\u001b[39m\u001b[38;5;124m_minim.pdb\u001b[39m\u001b[38;5;124m'\u001b[39m))\n\u001b[0;32m----> 4\u001b[0m \u001b[43mview\u001b[49m\u001b[38;5;241;43m.\u001b[39;49m\u001b[43madd_trajectory\u001b[49m\u001b[43m(\u001b[49m\u001b[43m(\u001b[49m\u001b[38;5;28;43mstr\u001b[39;49m\u001b[43m(\u001b[49m\u001b[43mPath\u001b[49m\u001b[43m(\u001b[49m\u001b[43minput_pdb_file\u001b[49m\u001b[43m)\u001b[49m\u001b[38;5;241;43m.\u001b[39;49m\u001b[43mstem\u001b[49m\u001b[43m)\u001b[49m\u001b[43m \u001b[49m\u001b[38;5;241;43m+\u001b[39;49m\u001b[43m \u001b[49m\u001b[38;5;124;43m'\u001b[39;49m\u001b[38;5;124;43m_equil.dcd\u001b[39;49m\u001b[38;5;124;43m'\u001b[39;49m\u001b[43m)\u001b[49m\u001b[43m)\u001b[49m\n\u001b[1;32m      5\u001b[0m view\n",
      "File \u001b[0;32m~/miniconda3/envs/easyMD/lib/python3.10/site-packages/nglview/widget.py:1154\u001b[0m, in \u001b[0;36mNGLWidget.add_trajectory\u001b[0;34m(self, trajectory, **kwargs)\u001b[0m\n\u001b[1;32m   1133\u001b[0m \u001b[38;5;250m\u001b[39m\u001b[38;5;124;03m'''add new trajectory to `view`\u001b[39;00m\n\u001b[1;32m   1134\u001b[0m \n\u001b[1;32m   1135\u001b[0m \u001b[38;5;124;03mParameters\u001b[39;00m\n\u001b[0;32m   (...)\u001b[0m\n\u001b[1;32m   1150\u001b[0m \u001b[38;5;124;03m>>> c = view.add_trajectory(traj)\u001b[39;00m\n\u001b[1;32m   1151\u001b[0m \u001b[38;5;124;03m'''\u001b[39;00m\n\u001b[1;32m   1152\u001b[0m backends \u001b[38;5;241m=\u001b[39m BACKENDS\n\u001b[0;32m-> 1154\u001b[0m package_name \u001b[38;5;241m=\u001b[39m \u001b[43mtrajectory\u001b[49m\u001b[38;5;241;43m.\u001b[39;49m\u001b[38;5;18;43m__module__\u001b[39;49m\u001b[38;5;241m.\u001b[39msplit(\u001b[38;5;124m'\u001b[39m\u001b[38;5;124m.\u001b[39m\u001b[38;5;124m'\u001b[39m)[\u001b[38;5;241m0\u001b[39m]\n\u001b[1;32m   1156\u001b[0m \u001b[38;5;28;01mif\u001b[39;00m package_name \u001b[38;5;129;01min\u001b[39;00m backends:\n\u001b[1;32m   1157\u001b[0m     trajectory \u001b[38;5;241m=\u001b[39m backends[package_name](trajectory)\n",
      "\u001b[0;31mAttributeError\u001b[0m: 'str' object has no attribute '__module__'"
     ]
    }
   ],
   "source": [
    "#show with nglview:\n",
    "import nglview\n",
    "view = nglview.show_structure_file((str(Path(input_pdb_file).stem) + '_minim.pdb'))\n",
    "view.add_trajectory((str(Path(input_pdb_file).stem) + '_equil.dcd'))\n",
    "view\n"
   ]
  }
 ],
 "metadata": {
  "kernelspec": {
   "display_name": "easyMD",
   "language": "python",
   "name": "python3"
  },
  "language_info": {
   "codemirror_mode": {
    "name": "ipython",
    "version": 3
   },
   "file_extension": ".py",
   "mimetype": "text/x-python",
   "name": "python",
   "nbconvert_exporter": "python",
   "pygments_lexer": "ipython3",
   "version": "3.10.13"
  }
 },
 "nbformat": 4,
 "nbformat_minor": 2
}

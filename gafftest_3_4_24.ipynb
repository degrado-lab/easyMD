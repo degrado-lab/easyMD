{
 "cells": [
  {
   "cell_type": "markdown",
   "metadata": {},
   "source": [
    "# Initial Test\n",
    "Here, we can open a file and parameterize with a small molecule, as long as the hydrogens have been added manually and provide a smiles string."
   ]
  },
  {
   "cell_type": "code",
   "execution_count": 7,
   "metadata": {},
   "outputs": [
    {
     "name": "stdout",
     "output_type": "stream",
     "text": [
      "BNZ\n",
      "EPE\n"
     ]
    }
   ],
   "source": [
    "from openff.toolkit import Molecule\n",
    "molecule = Molecule.from_smiles('c1ccccc1')\n",
    "\n",
    "from openmmforcefields.generators import GAFFTemplateGenerator\n",
    "gaff = GAFFTemplateGenerator(molecules=molecule)\n",
    "\n",
    "from openmm.app import ForceField\n",
    "forcefield = ForceField('amber/protein.ff14SB.xml', 'amber/tip3p_standard.xml', 'amber/tip3p_HFE_multivalent.xml')\n",
    "\n",
    "forcefield.registerTemplateGenerator(gaff.generator)\n",
    "\n",
    "#from openmm.app import PDBFile\n",
    "#pdbfile = PDBFile('4W52_h.pdb')\n",
    "\n",
    "from pdbfixer import PDBFixer\n",
    "\n",
    "#fix it:\n",
    "pdb = PDBFixer(str('4W52_h.pdb'))\n",
    "### Fix messed up residues\n",
    "pdb.findMissingResidues()\n",
    "#pdb.findNonstandardResidues()\n",
    "#pdb.replaceNonstandardResidues() \n",
    "pdb.findMissingAtoms()\n",
    "pdb.addMissingAtoms()    #this adds both missing atoms and residues \n",
    "\n",
    "#add hydrogens:\n",
    "pdb.addMissingHydrogens(7.0)\n",
    "\n",
    "#print the names of all non-standard residues:\n",
    "standard_residues = ['ALA', 'ARG', 'ASN', 'ASP', 'CYS', 'GLN', 'GLU', 'GLY', 'HIS', 'ILE', 'LEU', 'LYS', 'MET', 'PHE', 'PRO', 'SER', 'THR', 'TRP', 'TYR', 'VAL', 'HOH']\n",
    "for residue in pdb.topology.residues():\n",
    "    if residue.name not in standard_residues:\n",
    "        print(residue.name)\n",
    "\n",
    "#make a Modeller object:\n",
    "from openmm.app import Modeller\n",
    "modeller = Modeller(pdb.topology, pdb.positions)\n",
    "\n",
    "#delete EPE:\n",
    "to_delete = []\n",
    "for residue in modeller.topology.residues():\n",
    "    if residue.name == 'EPE':\n",
    "        to_delete.append(residue)\n",
    "modeller.delete(to_delete)\n",
    "\n",
    "#system = forcefield.createSystem(pdb.topology)\n",
    "system = forcefield.createSystem(modeller.topology)"
   ]
  },
  {
   "cell_type": "code",
   "execution_count": 16,
   "metadata": {},
   "outputs": [],
   "source": [
    "#integrator:\n",
    "from openmm import LangevinIntegrator\n",
    "from openmm import unit\n",
    "integrator = LangevinIntegrator(300*unit.kelvin, 1/unit.picosecond, 2*unit.femtoseconds)\n",
    "\n",
    "#simulation:\n",
    "from openmm.app import Simulation\n",
    "simulation = Simulation(modeller.topology, system, integrator)\n",
    "simulation.context.setPositions(modeller.positions)\n",
    "\n",
    "#minimize:\n",
    "simulation.minimizeEnergy()\n",
    "from pathlib import Path\n",
    "input_pdb_file = '4W52_h.pdb'\n",
    "PDBFile.writeFile(simulation.topology, simulation.context.getState(getPositions=True).getPositions(), str( (str(Path(input_pdb_file).stem) + '_minim.pdb')))\n",
    "\n",
    "#report:\n",
    "from openmm.app import PDBFile\n",
    "from openmm.app import DCDReporter\n",
    "reporting_interval = 10\n",
    "simulation.reporters.append(DCDReporter((str(Path(input_pdb_file).stem) + '_equil.dcd'), reporting_interval))\n",
    "\n",
    "#run:\n",
    "simulation.step(1000)"
   ]
  },
  {
   "cell_type": "code",
   "execution_count": 27,
   "metadata": {},
   "outputs": [
    {
     "data": {
      "application/vnd.jupyter.widget-view+json": {
       "model_id": "01251adc42b3400ea2ab68a447c5f346",
       "version_major": 2,
       "version_minor": 0
      },
      "text/plain": [
       "NGLWidget(max_frame=99)"
      ]
     },
     "metadata": {},
     "output_type": "display_data"
    }
   ],
   "source": [
    "import mdtraj as md\n",
    "traj = md.load(\n",
    "    str((str(Path(input_pdb_file).stem) + '_equil.dcd')),\n",
    "    top = str( (str(Path(input_pdb_file).stem) + '_minim.pdb'))            #get topology from processed pdb\n",
    ")\n",
    "\n",
    "#center the trajectory around the protein (to stop periodic boundary artifacts)\n",
    "protein = traj.topology.guess_anchor_molecules()\n",
    "centered_traj = traj.image_molecules(anchor_molecules=protein)\n",
    "\n",
    "#first let's make copy of trajectory without water:\n",
    "traj_no_water = centered_traj.atom_slice(centered_traj.topology.select('not water'))\n",
    "\n",
    "import nglview as nv\n",
    "view = nv.show_mdtraj(traj_no_water)\n",
    "view.add_representation('cartoon', selection=\"protein\")\n",
    "view._set_size('800px', '800px')\n",
    "#view.add_representation('ball+stick', selection='water', opacity=0.1)\n",
    "view\n",
    "\n",
    "#test!"
   ]
  },
  {
   "cell_type": "markdown",
   "metadata": {},
   "source": [
    "# Extracting the small molecule from the PDB:\n",
    "Let's do the same as above, but extract it using just the residue name or number:"
   ]
  },
  {
   "cell_type": "code",
   "execution_count": 100,
   "metadata": {},
   "outputs": [],
   "source": [
    "import openmm\n",
    "\n",
    "def create_ligand_topology(pdb, ligand_residue_idx_chain):\n",
    "    #First, find the ligand:\n",
    "    ligand = None\n",
    "    ligand_name = None\n",
    "    for residue in pdb.topology.residues():\n",
    "        if int(residue.id) == ligand_residue_idx_chain[0] and int(residue.chain.index) == ligand_residue_idx_chain[1]:   #note: residue.index is NOT the same as residue.id!\n",
    "            ligand = residue\n",
    "            ligand_name = residue.name\n",
    "            break\n",
    "    if ligand is None:\n",
    "        raise ValueError(f'Could not find ligand with residue index {ligand_residue_idx_chain}')\n",
    "    print(f'Found ligand: {ligand.name} with {len(list(ligand.atoms()))} atoms')\n",
    "\n",
    "    #create a new topology object:\n",
    "    ligand_topology = openmm.app.Topology()\n",
    "\n",
    "    #add all atoms to a new residue and chain:\n",
    "    ligand_chain = ligand_topology.addChain()\n",
    "    ligand_residue = ligand_topology.addResidue(ligand.name, ligand_chain)\n",
    "    [ligand_topology.addAtom(atom.name, atom.element, ligand_residue) for atom in ligand.atoms()]\n",
    "\n",
    "    #get positions from ligand.atoms():\n",
    "    ligand_positions = [pdb.positions[atom.index] for atom in ligand.atoms()]\n",
    "    ligand_positions = [pos.value_in_unit(openmm_unit.angstroms) for pos in ligand_positions]\n",
    "\n",
    "    return ligand_topology, ligand_positions, ligand_name\n",
    "\n",
    "import requests\n",
    "def download_ligand_sdf(three_letter_code, file_path):\n",
    "    url = f'https://files.rcsb.org/ligands/download/{three_letter_code}_ideal.sdf'\n",
    "    response = requests.get(url)\n",
    "    \n",
    "    if response.status_code == 200:\n",
    "        with open(file_path, 'w') as file:\n",
    "            file.write(response.text)\n",
    "        print(f\"SDF file for {three_letter_code} downloaded successfully.\")\n",
    "    else:\n",
    "        print(f\"Failed to download SDF file. HTTP status code: {response.status_code}\")"
   ]
  },
  {
   "cell_type": "code",
   "execution_count": 101,
   "metadata": {},
   "outputs": [],
   "source": [
    "ligand_name = 'EPE'\n",
    "\n",
    "### FIX PDB FILE:\n",
    "# fix messed up residues\n",
    "from pdbfixer import PDBFixer\n",
    "pdb = PDBFixer(str('4W52_h.pdb'))\n",
    "pdb.findMissingResidues()\n",
    "pdb.findNonstandardResidues()\n",
    "pdb.replaceNonstandardResidues() \n",
    "pdb.findMissingAtoms()\n",
    "pdb.addMissingAtoms()    #this adds both missing atoms and residues \n",
    "\n",
    "#add hydrogens:\n",
    "pdb.addMissingHydrogens(7.0)\n",
    "\n",
    "#print the names of all non-standard residues:\n",
    "standard_residues = ['ALA', 'ARG', 'ASN', 'ASP', 'CYS', 'GLN', 'GLU', 'GLY', 'HIS', 'ILE', 'LEU', 'LYS', 'MET', 'PHE', 'PRO', 'SER', 'THR', 'TRP', 'TYR', 'VAL']\n",
    "nonstandard_residues = []\n",
    "for residue in pdb.topology.residues():\n",
    "    if residue.name not in standard_residues:\n",
    "        nonstandard_residues.append(residue.name)\n",
    "\n",
    "\n",
    "### MAKE MODELLER OBJECT:\n",
    "from openmm.app import Modeller\n",
    "modeller = Modeller(pdb.topology, pdb.positions)\n",
    "\n",
    "#delete all nonstandard residues except ligand:\n",
    "to_delete = []\n",
    "for residue in modeller.topology.residues():\n",
    "    if residue.name in nonstandard_residues and residue.name != ligand_name:\n",
    "        to_delete.append(residue)\n",
    "modeller.delete(to_delete)\n",
    "\n",
    "#write out the cleaned PDB file:\n",
    "from openmm.app import PDBFile\n",
    "PDBFile.writeFile(modeller.topology, modeller.positions, str('cleaned.pdb'))\n"
   ]
  },
  {
   "cell_type": "code",
   "execution_count": 128,
   "metadata": {},
   "outputs": [
    {
     "name": "stdout",
     "output_type": "stream",
     "text": [
      "Found ligand: EPE with 33 atoms\n",
      "SDF file for EPE downloaded successfully.\n"
     ]
    },
    {
     "name": "stderr",
     "output_type": "stream",
     "text": [
      "[13:55:59] WARNING: More than one matching pattern found - picking one\n",
      "\n"
     ]
    }
   ],
   "source": [
    "### EXTRACT LIGAND TO OPENFF MOLECULE:\n",
    "from openff.toolkit import Molecule\n",
    "# what goes here? lol\n",
    "\n",
    "### MAKE LIGAND AND SYSTEM:\n",
    "from openff.toolkit import Molecule\n",
    "#first, extract ligand from the PDB file:\n",
    "\n",
    "# get ligand idx from residue name:\n",
    "ligand_residue_idx_chain = None\n",
    "for residue in pdb.topology.residues():\n",
    "    if residue.name == ligand_name:\n",
    "        ligand_residue_idx_chain = int(residue.id), int(residue.chain.index)\n",
    "        break\n",
    "\n",
    "#Let's take the original pdb file, once again:\n",
    "original_pdb = pdb\n",
    "\n",
    "#get the ligand topology and positions:\n",
    "ligand_topology, ligand_positions, ligand_code = create_ligand_topology(original_pdb, ligand_residue_idx_chain)\n",
    "\n",
    "#write the ligand to a new PDB file:\n",
    "ligand_path_pdb = 'ligand.pdb'\n",
    "PDBFile.writeFile(ligand_topology, ligand_positions, str(ligand_path_pdb))\n",
    "\n",
    "#Then, write to SDF file, making sure to keep hydrogens:\n",
    "ligand_mol = Chem.MolFromPDBFile(str(ligand_path_pdb), removeHs=False)\n",
    "\n",
    "#specify the stereochemistry:\n",
    "Chem.AssignStereochemistryFrom3D(ligand_mol)\n",
    "\n",
    "ligand_path = 'ligand.sdf'\n",
    "writer = Chem.SDWriter(str(ligand_path))\n",
    "writer.write(ligand_mol)\n",
    "writer.close()\n",
    "\n",
    "\n",
    "#get ligand mol:\n",
    "ligand_mol = Chem.MolFromMolFile(ligand_path, removeHs=False)\n",
    "\n",
    "#load the template molecule:\n",
    "template_path = 'ligand_template.sdf'\n",
    "download_ligand_sdf(ligand_name, template_path)\n",
    "template_mol = Chem.MolFromMolFile(template_path, removeHs=False)\n",
    "\n",
    "\n",
    "template_mol = Chem.RemoveHs(template_mol)\n",
    "ligand_mol = Chem.RemoveHs(ligand_mol)\n",
    "\n",
    "#align the ligand to the template:\n",
    "from rdkit.Chem import AllChem\n",
    "mol = AllChem.AssignBondOrdersFromTemplate(template_mol, ligand_mol)\n",
    "\n",
    "#turn into openff molecule:\n",
    "ligand = Molecule.from_rdkit(mol)\n",
    "\n",
    "from openmmforcefields.generators import GAFFTemplateGenerator\n",
    "gaff = GAFFTemplateGenerator(molecules=ligand)\n",
    "\n",
    "from openmm.app import ForceField\n",
    "forcefield = ForceField('amber/protein.ff14SB.xml', 'amber/tip3p_standard.xml', 'amber/tip3p_HFE_multivalent.xml')\n",
    "\n",
    "forcefield.registerTemplateGenerator(gaff.generator)\n",
    "\n",
    "#system = forcefield.createSystem(pdb.topology)\n",
    "system = forcefield.createSystem(modeller.topology)\n",
    "\n"
   ]
  },
  {
   "cell_type": "code",
   "execution_count": 129,
   "metadata": {},
   "outputs": [],
   "source": [
    "#integrator:\n",
    "from openmm import LangevinIntegrator\n",
    "from openmm import unit\n",
    "integrator = LangevinIntegrator(300*unit.kelvin, 1/unit.picosecond, 2*unit.femtoseconds)\n",
    "\n",
    "#simulation:\n",
    "from openmm.app import Simulation\n",
    "simulation = Simulation(modeller.topology, system, integrator)\n",
    "simulation.context.setPositions(modeller.positions)\n",
    "\n",
    "#minimize:\n",
    "simulation.minimizeEnergy()\n",
    "from pathlib import Path\n",
    "from openmm.app import PDBFile\n",
    "input_pdb_file = '4W52_h.pdb'\n",
    "PDBFile.writeFile(simulation.topology, simulation.context.getState(getPositions=True).getPositions(), str( (str(Path(input_pdb_file).stem) + '_minim.pdb')))\n",
    "\n",
    "#report:\n",
    "from openmm.app import PDBFile\n",
    "from openmm.app import DCDReporter\n",
    "reporting_interval = 10\n",
    "simulation.reporters.append(DCDReporter((str(Path(input_pdb_file).stem) + '_equil.dcd'), reporting_interval))\n",
    "\n",
    "#run:\n",
    "simulation.step(1000)"
   ]
  },
  {
   "cell_type": "code",
   "execution_count": 130,
   "metadata": {},
   "outputs": [
    {
     "data": {
      "application/vnd.jupyter.widget-view+json": {
       "model_id": "e90dd2224e5548a69ce2bb11a47409dd",
       "version_major": 2,
       "version_minor": 0
      },
      "text/plain": [
       "NGLWidget(max_frame=99)"
      ]
     },
     "metadata": {},
     "output_type": "display_data"
    }
   ],
   "source": [
    "#show with nglview:\n",
    "import mdtraj as md\n",
    "traj = md.load(\n",
    "    str((str(Path(input_pdb_file).stem) + '_equil.dcd')),\n",
    "    top = str( (str(Path(input_pdb_file).stem) + '_minim.pdb'))            #get topology from processed pdb\n",
    ")\n",
    "\n",
    "#center the trajectory around the protein (to stop periodic boundary artifacts)\n",
    "#select the protein:\n",
    "#protein = traj.topology.guess_anchor_molecules()\n",
    "#centered_traj = traj.image_molecules(anchor_molecules=protein)\n",
    "\n",
    "#first let's make copy of trajectory without water:\n",
    "#traj_no_water = centered_traj.atom_slice(centered_traj.topology.select('not water'))\n",
    "\n",
    "import nglview as nv\n",
    "view = nv.show_mdtraj(traj)\n",
    "view.add_representation('cartoon', selection=\"protein\")\n",
    "view._set_size('800px', '800px')\n",
    "#view.add_representation('ball+stick', selection='water', opacity=0.1)\n",
    "view"
   ]
  },
  {
   "cell_type": "markdown",
   "metadata": {},
   "source": []
  }
 ],
 "metadata": {
  "kernelspec": {
   "display_name": "easyMD",
   "language": "python",
   "name": "python3"
  },
  "language_info": {
   "codemirror_mode": {
    "name": "ipython",
    "version": 3
   },
   "file_extension": ".py",
   "mimetype": "text/x-python",
   "name": "python",
   "nbconvert_exporter": "python",
   "pygments_lexer": "ipython3",
   "version": "3.10.13"
  }
 },
 "nbformat": 4,
 "nbformat_minor": 2
}

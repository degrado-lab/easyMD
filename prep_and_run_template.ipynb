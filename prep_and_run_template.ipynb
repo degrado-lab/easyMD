{
 "cells": [
  {
   "cell_type": "markdown",
   "metadata": {},
   "source": [
    "# Prepare and Run OpenMM Simulation"
   ]
  },
  {
   "cell_type": "code",
   "execution_count": 1,
   "metadata": {},
   "outputs": [],
   "source": [
    "experiment_name = 'example_1AKI'"
   ]
  },
  {
   "cell_type": "markdown",
   "metadata": {},
   "source": [
    "This notebook allows you to run an OpenMM simulation locally or on a job submission cluster, like Wynton.\n",
    "\n",
    "You may run this notebook top-to-bottom, except where you see cells titled **OPTION**. These indicate places you may choose to run certain code (e.g. running a simulation in the jupyter notebook vs on a cluster).\n",
    "\n",
    "Always specify the experiment name above before skipping down to a section."
   ]
  },
  {
   "cell_type": "markdown",
   "metadata": {},
   "source": [
    "# Load Starting Structure"
   ]
  },
  {
   "cell_type": "markdown",
   "metadata": {},
   "source": [
    "### OPTION 1) Load local file"
   ]
  },
  {
   "cell_type": "code",
   "execution_count": 2,
   "metadata": {},
   "outputs": [],
   "source": [
    "### Using local file? ###\n",
    "input_pdb_file = './1AKI.pdb'"
   ]
  },
  {
   "cell_type": "markdown",
   "metadata": {},
   "source": [
    "### OPTION 2) Load from PDB"
   ]
  },
  {
   "cell_type": "code",
   "execution_count": 6,
   "metadata": {},
   "outputs": [
    {
     "name": "stdout",
     "output_type": "stream",
     "text": [
      "Successfully downloaded 4W52.pdb\n"
     ]
    }
   ],
   "source": [
    "### Or, using PDB ID? ###\n",
    "input_pdb_ID = '1AKI'\n",
    "\n",
    "from easyMD.utils import download_pdb\n",
    "download_pdb(input_pdb_ID)\n",
    "\n",
    "input_pdb_file = f'{input_pdb_ID}.pdb'"
   ]
  },
  {
   "cell_type": "markdown",
   "metadata": {},
   "source": [
    "# Prepare Simulation"
   ]
  },
  {
   "cell_type": "code",
   "execution_count": 3,
   "metadata": {},
   "outputs": [
    {
     "data": {
      "application/vnd.jupyter.widget-view+json": {
       "model_id": "1b1312097ccb499faf6a46e4b06e97cc",
       "version_major": 2,
       "version_minor": 0
      },
      "text/plain": []
     },
     "metadata": {},
     "output_type": "display_data"
    },
    {
     "data": {
      "application/vnd.jupyter.widget-view+json": {
       "model_id": "78a455adbdbf4d88bb57a95b220c103b",
       "version_major": 2,
       "version_minor": 0
      },
      "text/plain": [
       "NGLWidget()"
      ]
     },
     "metadata": {},
     "output_type": "display_data"
    }
   ],
   "source": [
    "##########################################\n",
    "############ DIRECTORY SETUP #############\n",
    "##########################################\n",
    "# experiments/\n",
    "#     new_experiment/\n",
    "#         inputs/\n",
    "#             raw/\n",
    "#             processed/\n",
    "#         simulations/\n",
    "#     another_experiment/...\n",
    "from easyMD.utils import setup_experiment_dir, create_dirs\n",
    "from pathlib import Path\n",
    "experiments_dir = Path('experiments')\n",
    "current_experiment_dir, \\\n",
    "inputs_dir,             \\\n",
    "raw_dir,                \\\n",
    "processed_dir,          \\\n",
    "sim_dir                = setup_experiment_dir(experiments_dir, experiment_name)\n",
    "\n",
    "create_dirs([experiments_dir, current_experiment_dir, inputs_dir, raw_dir, processed_dir, sim_dir])\n",
    "\n",
    "#Let's copy the input files to the inputs:\n",
    "import shutil\n",
    "shutil.copy(input_pdb_file, raw_dir)\n",
    "pdb_path = raw_dir / Path(input_pdb_file).name\n",
    "\n",
    "#show structure:\n",
    "from easyMD.utils import show_pdb\n",
    "show_pdb(pdb_path, size=(600, 600), water=True)"
   ]
  },
  {
   "cell_type": "markdown",
   "metadata": {},
   "source": [
    "### Take care during processing!\n",
    "In this step, we make decisions for processing our pdb before the simulation. Here you may think about the following options, and enable or disable in the code below:\n",
    "- Do you want to keep certain heteroatoms?\n",
    "- Do you want to keep all chains, or just one?\n",
    "- Do you want PDBfixer to add missing residues?"
   ]
  },
  {
   "cell_type": "code",
   "execution_count": 14,
   "metadata": {},
   "outputs": [],
   "source": [
    "# Which chains are we keeping? Put the chain IDs here.\n",
    "# Empty list means keep all.\n",
    "chains_to_keep = ['A']\n",
    "\n",
    "# Are we using a ligand? List the 3-letter residue name here.\n",
    "# Empty list means no ligand.\n",
    "ligand_resnames = []\n"
   ]
  },
  {
   "cell_type": "code",
   "execution_count": 15,
   "metadata": {},
   "outputs": [
    {
     "name": "stdout",
     "output_type": "stream",
     "text": [
      "Writing out the processed input pdb...\n",
      "Found ligand: EPE with 33 atoms\n",
      "No ligand SDF template provided. Downloading from RCSB PDB...\n",
      "SDF file for EPE downloaded successfully.\n",
      "Done!\n",
      "Number of atoms: 36488\n"
     ]
    },
    {
     "name": "stderr",
     "output_type": "stream",
     "text": [
      "[12:56:11] WARNING: More than one matching pattern found - picking one\n",
      "\n"
     ]
    },
    {
     "data": {
      "application/vnd.jupyter.widget-view+json": {
       "model_id": "d1cb627b48e248bd86db6f884e79ad23",
       "version_major": 2,
       "version_minor": 0
      },
      "text/plain": [
       "NGLWidget()"
      ]
     },
     "metadata": {},
     "output_type": "display_data"
    }
   ],
   "source": [
    "############################################\n",
    "############ PROCESS INPUT PDB #############\n",
    "############################################\n",
    "\n",
    "### Fix messed up residues\n",
    "from pdbfixer import PDBFixer\n",
    "pdb = PDBFixer(str(pdb_path))\n",
    "\n",
    "### Fix messed up residues\n",
    "pdb.findMissingResidues()\n",
    "pdb.findNonstandardResidues()\n",
    "pdb.replaceNonstandardResidues() \n",
    "pdb.findMissingAtoms()\n",
    "pdb.addMissingAtoms()    #this adds both missing atoms and residues \n",
    "\n",
    "### Remove chains\n",
    "chains_to_delete = [chain.index for chain in pdb.topology.chains() if chain.id not in chains_to_keep]\n",
    "pdb.removeChains(chains_to_delete)\n",
    "\n",
    "### add hydrogens:\n",
    "pdb.addMissingHydrogens(7.0)\n",
    "\n",
    "### print the names of all non-standard residues:\n",
    "standard_residues = ['ALA', 'ARG', 'ASN', 'ASP', 'CYS', 'GLN', 'GLU', 'GLY', 'HIS', 'ILE', 'LEU', 'LYS', 'MET', 'PHE', 'PRO', 'SER', 'THR', 'TRP', 'TYR', 'VAL']\n",
    "nonstandard_residues = []\n",
    "for residue in pdb.topology.residues():\n",
    "    if residue.name not in standard_residues:\n",
    "        nonstandard_residues.append(residue.name)\n",
    "\n",
    "### MAKE MODELLER OBJECT:\n",
    "from openmm.app import Modeller\n",
    "modeller = Modeller(pdb.topology, pdb.positions)\n",
    "\n",
    "### Delete all nonstandard residues except ligand:\n",
    "to_delete = []\n",
    "for residue in modeller.topology.residues():\n",
    "    if residue.name in nonstandard_residues and residue.name not in ligand_resnames:\n",
    "        to_delete.append(residue)\n",
    "modeller.delete(to_delete)\n",
    "\n",
    "### Write out the cleaned PDB file:\n",
    "from openmm.app import PDBFile\n",
    "#import tempfile:\n",
    "import tempfile\n",
    "cleaned_pdb_path = Path(tempfile.mkstemp(suffix='.pdb')[1])\n",
    "#cleaned_pdb_path = processed_dir / (str(Path(input_pdb_file).stem) + '_cleaned.pdb')\n",
    "PDBFile.writeFile(modeller.topology, modeller.positions, str(cleaned_pdb_path))\n",
    "\n",
    "### Add Solvent:\n",
    "pdb = PDBFixer(str(cleaned_pdb_path))\n",
    "from openmm import unit as openmm_unit\n",
    "pdb.addSolvent(padding=10*openmm_unit.angstroms)\n",
    "\n",
    "### Write out the Processed pdb\n",
    "print('Writing out the processed input pdb...')\n",
    "processed_pdb_path = processed_dir / Path(input_pdb_file).name\n",
    "PDBFile.writeFile(pdb.topology, pdb.positions, str(processed_dir / Path(input_pdb_file).name ))\n",
    "\n",
    "### Extract and correct ligands, if using:\n",
    "from easyMD.utils import extract_and_correct_ligand\n",
    "if ligand_resnames:\n",
    "    for ligand_resname in ligand_resnames:\n",
    "        extract_and_correct_ligand(pdb, ligand_resname , processed_dir / 'ligands' / f'{ligand_resname}.sdf')\n",
    "\n",
    "### Output:\n",
    "print('Done!')\n",
    "print('Number of atoms:', pdb.topology.getNumAtoms())\n",
    "\n",
    "from easyMD.utils import show_pdb\n",
    "show_pdb(processed_pdb_path, size=(600, 600), water=True)"
   ]
  },
  {
   "cell_type": "markdown",
   "metadata": {},
   "source": [
    "# Run Simulation\n",
    "\n",
    "**Starting a fresh simulation?** Adjust the parameters below, and continue through this section.\n",
    "\n",
    "**Continuing a simulation?** Skip to the cells titled Option 1) or Option 2). In each, there is a flag called `continue_from_previous_sim` - set this to `True`. Also specify the number of new steps you want to run with `continue_sim_steps`."
   ]
  },
  {
   "cell_type": "code",
   "execution_count": 16,
   "metadata": {},
   "outputs": [],
   "source": [
    "############################################\n",
    "############# SIM PARAMETERS ###############\n",
    "############################################\n",
    "\n",
    "step_size           = 0.002             # picoseconds\n",
    "temperature         = 300               # kelvin\n",
    "\n",
    "### Forcefield:\n",
    "forcefield_files = ['amber14-all.xml', 'amber14/tip3p.xml']     #['amber14-all.xml', 'amber14/tip3p.xml'] is recommended if using a ligand! (Since it works with GAFF)\n",
    "\n",
    "### Simulation steps:\n",
    "minimization_steps  = 0                  # 0 means run until convergence, recommended.\n",
    "equilibration_steps = 10000\n",
    "production_steps    = 500000 * 1        # 500000 = 1 ns. On a 4080TI, this takes around 2 minutes for a small system.\n",
    "\n",
    "### Saving:\n",
    "reporting_interval  = 5000               # How frequently do you want to save frames?\n",
    "checkpoint_interval = 500000             # How frequently do you want to save checkpoints? (This is for restarting failed or finished simulations).\n",
    "\n",
    "### Skipping and Relaunching Simulations:\n",
    "only_production = False                  # If True, will skip equilibration and minimization."
   ]
  },
  {
   "cell_type": "code",
   "execution_count": 17,
   "metadata": {},
   "outputs": [],
   "source": [
    "### arguments for simulations script:\n",
    "from easyMD.utils import write_sim_parameters\n",
    "\n",
    "sim_parameter_dict =   {'minimization_steps':   minimization_steps,\n",
    "                        'equilibration_steps':  equilibration_steps,\n",
    "                        'production_steps':     production_steps,\n",
    "                        'reporting_interval':   reporting_interval,\n",
    "                        'checkpoint_interval':  checkpoint_interval,\n",
    "                        'input_pdb_file':       input_pdb_file,\n",
    "                        'sim_dir':              str(sim_dir),\n",
    "                        'processed_dir':        str(processed_dir),\n",
    "                        'experiment_name':      experiment_name,\n",
    "                        'forcefield_files':     forcefield_files,\n",
    "                        'step_size':            step_size,\n",
    "                        'temperature':          temperature,\n",
    "                        'only_production':      only_production      #this is a flag to only run production, for when we want to continue a simulation\n",
    "                        }       \n",
    "\n",
    "write_sim_parameters( sim_dir / 'simulation_dict.json', sim_parameter_dict)"
   ]
  },
  {
   "cell_type": "markdown",
   "metadata": {},
   "source": [
    "### OPTION 1) Run Locally\n",
    "This will run in the notebook. If you stop the notebook or kill your connection, the simulation will stop."
   ]
  },
  {
   "cell_type": "code",
   "execution_count": 19,
   "metadata": {},
   "outputs": [
    {
     "name": "stdout",
     "output_type": "stream",
     "text": [
      "Minimizing energy...\n",
      "Writing out the minimized pdb...\n",
      "Running equilibration...\n",
      "#\"Step\",\"Potential Energy (kJ/mole)\",\"Temperature (K)\"\n",
      "1000,-492279.64199590124,269.64747735710193\n",
      "2000,-477480.66933965124,291.09681981725845\n",
      "3000,-474068.45254277624,295.2232562648085\n",
      "4000,-471933.14297246374,297.82743559620894\n",
      "5000,-471590.5018591825,301.58912377567384\n",
      "6000,-471738.20742558874,298.3525698332266\n",
      "7000,-471227.41494512,302.2997107927316\n",
      "8000,-470575.48916387,303.28100419770067\n",
      "9000,-471493.27773808874,297.62402388122484\n",
      "10000,-471680.5604529325,299.9186227540625\n",
      "Running production...\n",
      "#\"Step\",\"Potential Energy (kJ/mole)\",\"Temperature (K)\"\n",
      "15000,-471232.40664433874,297.7914478866036\n",
      "20000,-472098.27285527624,301.20907227404615\n"
     ]
    },
    {
     "ename": "KeyboardInterrupt",
     "evalue": "",
     "output_type": "error",
     "traceback": [
      "\u001b[0;31m---------------------------------------------------------------------------\u001b[0m",
      "\u001b[0;31mKeyboardInterrupt\u001b[0m                         Traceback (most recent call last)",
      "\u001b[0;32m/tmp/ipykernel_623609/2459031432.py\u001b[0m in \u001b[0;36m?\u001b[0;34m()\u001b[0m\n\u001b[1;32m      1\u001b[0m \u001b[0;32mfrom\u001b[0m \u001b[0measyMD\u001b[0m\u001b[0;34m.\u001b[0m\u001b[0mutils\u001b[0m \u001b[0;32mimport\u001b[0m \u001b[0mrun_sim_local\u001b[0m\u001b[0;34m\u001b[0m\u001b[0;34m\u001b[0m\u001b[0m\n\u001b[0;32m----> 2\u001b[0;31m \u001b[0mrun_sim_local\u001b[0m\u001b[0;34m(\u001b[0m\u001b[0msim_dir\u001b[0m\u001b[0;34m)\u001b[0m\u001b[0;34m\u001b[0m\u001b[0;34m\u001b[0m\u001b[0m\n\u001b[0m\u001b[1;32m      3\u001b[0m \u001b[0;34m\u001b[0m\u001b[0m\n\u001b[1;32m      4\u001b[0m \u001b[0;31m### Continuing a previous sim? Use this instead:\u001b[0m\u001b[0;34m\u001b[0m\u001b[0;34m\u001b[0m\u001b[0m\n\u001b[1;32m      5\u001b[0m \u001b[0;31m#from pathlib import Path\u001b[0m\u001b[0;34m\u001b[0m\u001b[0;34m\u001b[0m\u001b[0m\n",
      "\u001b[0;32m~/workspace/easyMD/easyMD/utils/run_simulation.py\u001b[0m in \u001b[0;36m?\u001b[0;34m(sim_dir, continue_from_previous_sim, continue_sim_steps)\u001b[0m\n\u001b[1;32m    119\u001b[0m     \u001b[0msimulation\u001b[0m\u001b[0;34m.\u001b[0m\u001b[0mreporters\u001b[0m\u001b[0;34m.\u001b[0m\u001b[0mclear\u001b[0m\u001b[0;34m(\u001b[0m\u001b[0;34m)\u001b[0m\u001b[0;34m\u001b[0m\u001b[0;34m\u001b[0m\u001b[0m\n\u001b[1;32m    120\u001b[0m     \u001b[0msimulation\u001b[0m\u001b[0;34m.\u001b[0m\u001b[0mreporters\u001b[0m\u001b[0;34m.\u001b[0m\u001b[0mappend\u001b[0m\u001b[0;34m(\u001b[0m\u001b[0mDCDReporter\u001b[0m\u001b[0;34m(\u001b[0m        \u001b[0msim_dir\u001b[0m \u001b[0;34m/\u001b[0m \u001b[0;34m(\u001b[0m\u001b[0mstr\u001b[0m\u001b[0;34m(\u001b[0m\u001b[0mPath\u001b[0m\u001b[0;34m(\u001b[0m\u001b[0minput_pdb_file\u001b[0m\u001b[0;34m)\u001b[0m\u001b[0;34m.\u001b[0m\u001b[0mstem\u001b[0m\u001b[0;34m)\u001b[0m \u001b[0;34m+\u001b[0m \u001b[0;34m'_prod.dcd'\u001b[0m\u001b[0;34m)\u001b[0m\u001b[0;34m,\u001b[0m \u001b[0mreporting_interval\u001b[0m\u001b[0;34m,\u001b[0m \u001b[0mappend\u001b[0m\u001b[0;34m=\u001b[0m\u001b[0mcontinue_from_previous_sim\u001b[0m\u001b[0;34m)\u001b[0m\u001b[0;34m)\u001b[0m\u001b[0;34m\u001b[0m\u001b[0;34m\u001b[0m\u001b[0m\n\u001b[1;32m    121\u001b[0m     \u001b[0msimulation\u001b[0m\u001b[0;34m.\u001b[0m\u001b[0mreporters\u001b[0m\u001b[0;34m.\u001b[0m\u001b[0mappend\u001b[0m\u001b[0;34m(\u001b[0m\u001b[0mStateDataReporter\u001b[0m\u001b[0;34m(\u001b[0m  \u001b[0msys\u001b[0m\u001b[0;34m.\u001b[0m\u001b[0mstdout\u001b[0m\u001b[0;34m,\u001b[0m \u001b[0mreporting_interval\u001b[0m\u001b[0;34m,\u001b[0m \u001b[0mstep\u001b[0m\u001b[0;34m=\u001b[0m\u001b[0;32mTrue\u001b[0m\u001b[0;34m,\u001b[0m \u001b[0mpotentialEnergy\u001b[0m\u001b[0;34m=\u001b[0m\u001b[0;32mTrue\u001b[0m\u001b[0;34m,\u001b[0m \u001b[0mtemperature\u001b[0m\u001b[0;34m=\u001b[0m\u001b[0;32mTrue\u001b[0m\u001b[0;34m,\u001b[0m \u001b[0mappend\u001b[0m\u001b[0;34m=\u001b[0m\u001b[0mcontinue_from_previous_sim\u001b[0m\u001b[0;34m)\u001b[0m\u001b[0;34m)\u001b[0m\u001b[0;34m\u001b[0m\u001b[0;34m\u001b[0m\u001b[0m\n\u001b[1;32m    122\u001b[0m     \u001b[0msimulation\u001b[0m\u001b[0;34m.\u001b[0m\u001b[0mreporters\u001b[0m\u001b[0;34m.\u001b[0m\u001b[0mappend\u001b[0m\u001b[0;34m(\u001b[0m\u001b[0mCheckpointReporter\u001b[0m\u001b[0;34m(\u001b[0m \u001b[0mstr\u001b[0m\u001b[0;34m(\u001b[0m\u001b[0msim_dir\u001b[0m \u001b[0;34m/\u001b[0m \u001b[0;34m(\u001b[0m\u001b[0mstr\u001b[0m\u001b[0;34m(\u001b[0m\u001b[0mPath\u001b[0m\u001b[0;34m(\u001b[0m\u001b[0minput_pdb_file\u001b[0m\u001b[0;34m)\u001b[0m\u001b[0;34m.\u001b[0m\u001b[0mstem\u001b[0m\u001b[0;34m)\u001b[0m \u001b[0;34m+\u001b[0m \u001b[0;34m'_prod.chk'\u001b[0m\u001b[0;34m)\u001b[0m\u001b[0;34m)\u001b[0m\u001b[0;34m,\u001b[0m \u001b[0mcheckpoint_interval\u001b[0m\u001b[0;34m)\u001b[0m\u001b[0;34m)\u001b[0m\u001b[0;34m\u001b[0m\u001b[0;34m\u001b[0m\u001b[0m\n\u001b[0;32m--> 123\u001b[0;31m     \u001b[0msimulation\u001b[0m\u001b[0;34m.\u001b[0m\u001b[0mstep\u001b[0m\u001b[0;34m(\u001b[0m\u001b[0mproduction_steps\u001b[0m\u001b[0;34m)\u001b[0m\u001b[0;34m\u001b[0m\u001b[0;34m\u001b[0m\u001b[0m\n\u001b[0m\u001b[1;32m    124\u001b[0m \u001b[0;34m\u001b[0m\u001b[0m\n\u001b[1;32m    125\u001b[0m     \u001b[0mprint\u001b[0m\u001b[0;34m(\u001b[0m\u001b[0;34m'Done!'\u001b[0m\u001b[0;34m)\u001b[0m\u001b[0;34m\u001b[0m\u001b[0;34m\u001b[0m\u001b[0m\n",
      "\u001b[0;32m~/miniconda3/envs/openmm/lib/python3.10/site-packages/openmm/app/simulation.py\u001b[0m in \u001b[0;36m?\u001b[0;34m(self, steps)\u001b[0m\n\u001b[1;32m    145\u001b[0m     \u001b[0;32mdef\u001b[0m \u001b[0mstep\u001b[0m\u001b[0;34m(\u001b[0m\u001b[0mself\u001b[0m\u001b[0;34m,\u001b[0m \u001b[0msteps\u001b[0m\u001b[0;34m)\u001b[0m\u001b[0;34m:\u001b[0m\u001b[0;34m\u001b[0m\u001b[0;34m\u001b[0m\u001b[0m\n\u001b[1;32m    146\u001b[0m         \u001b[0;34m\"\"\"Advance the simulation by integrating a specified number of time steps.\"\"\"\u001b[0m\u001b[0;34m\u001b[0m\u001b[0;34m\u001b[0m\u001b[0m\n\u001b[0;32m--> 147\u001b[0;31m         \u001b[0mself\u001b[0m\u001b[0;34m.\u001b[0m\u001b[0m_simulate\u001b[0m\u001b[0;34m(\u001b[0m\u001b[0mendStep\u001b[0m\u001b[0;34m=\u001b[0m\u001b[0mself\u001b[0m\u001b[0;34m.\u001b[0m\u001b[0mcurrentStep\u001b[0m\u001b[0;34m+\u001b[0m\u001b[0msteps\u001b[0m\u001b[0;34m)\u001b[0m\u001b[0;34m\u001b[0m\u001b[0;34m\u001b[0m\u001b[0m\n\u001b[0m",
      "\u001b[0;32m~/miniconda3/envs/openmm/lib/python3.10/site-packages/openmm/app/simulation.py\u001b[0m in \u001b[0;36m?\u001b[0;34m(self, endStep, endTime)\u001b[0m\n\u001b[1;32m    208\u001b[0m                     \u001b[0mnextSteps\u001b[0m \u001b[0;34m=\u001b[0m \u001b[0mnextReport\u001b[0m\u001b[0;34m[\u001b[0m\u001b[0mi\u001b[0m\u001b[0;34m]\u001b[0m\u001b[0;34m[\u001b[0m\u001b[0;36m0\u001b[0m\u001b[0;34m]\u001b[0m\u001b[0;34m\u001b[0m\u001b[0;34m\u001b[0m\u001b[0m\n\u001b[1;32m    209\u001b[0m                     \u001b[0manyReport\u001b[0m \u001b[0;34m=\u001b[0m \u001b[0;32mTrue\u001b[0m\u001b[0;34m\u001b[0m\u001b[0;34m\u001b[0m\u001b[0m\n\u001b[1;32m    210\u001b[0m             \u001b[0mstepsToGo\u001b[0m \u001b[0;34m=\u001b[0m \u001b[0mnextSteps\u001b[0m\u001b[0;34m\u001b[0m\u001b[0;34m\u001b[0m\u001b[0m\n\u001b[1;32m    211\u001b[0m             \u001b[0;32mwhile\u001b[0m \u001b[0mstepsToGo\u001b[0m \u001b[0;34m>\u001b[0m \u001b[0;36m10\u001b[0m\u001b[0;34m:\u001b[0m\u001b[0;34m\u001b[0m\u001b[0;34m\u001b[0m\u001b[0m\n\u001b[0;32m--> 212\u001b[0;31m                 \u001b[0mself\u001b[0m\u001b[0;34m.\u001b[0m\u001b[0mintegrator\u001b[0m\u001b[0;34m.\u001b[0m\u001b[0mstep\u001b[0m\u001b[0;34m(\u001b[0m\u001b[0;36m10\u001b[0m\u001b[0;34m)\u001b[0m \u001b[0;31m# Only take 10 steps at a time, to give Python more chances to respond to a control-c.\u001b[0m\u001b[0;34m\u001b[0m\u001b[0;34m\u001b[0m\u001b[0m\n\u001b[0m\u001b[1;32m    213\u001b[0m                 \u001b[0mstepsToGo\u001b[0m \u001b[0;34m-=\u001b[0m \u001b[0;36m10\u001b[0m\u001b[0;34m\u001b[0m\u001b[0;34m\u001b[0m\u001b[0m\n\u001b[1;32m    214\u001b[0m                 \u001b[0;32mif\u001b[0m \u001b[0mendTime\u001b[0m \u001b[0;32mis\u001b[0m \u001b[0;32mnot\u001b[0m \u001b[0;32mNone\u001b[0m \u001b[0;32mand\u001b[0m \u001b[0mdatetime\u001b[0m\u001b[0;34m.\u001b[0m\u001b[0mnow\u001b[0m\u001b[0;34m(\u001b[0m\u001b[0;34m)\u001b[0m \u001b[0;34m>=\u001b[0m \u001b[0mendTime\u001b[0m\u001b[0;34m:\u001b[0m\u001b[0;34m\u001b[0m\u001b[0;34m\u001b[0m\u001b[0m\n\u001b[1;32m    215\u001b[0m                     \u001b[0;32mreturn\u001b[0m\u001b[0;34m\u001b[0m\u001b[0;34m\u001b[0m\u001b[0m\n",
      "\u001b[0;32m~/miniconda3/envs/openmm/lib/python3.10/site-packages/openmm/openmm.py\u001b[0m in \u001b[0;36m?\u001b[0;34m(self, steps)\u001b[0m\n\u001b[1;32m   9950\u001b[0m         \u001b[0;34m-\u001b[0m\u001b[0;34m-\u001b[0m\u001b[0;34m-\u001b[0m\u001b[0;34m-\u001b[0m\u001b[0;34m-\u001b[0m\u001b[0;34m-\u001b[0m\u001b[0;34m-\u001b[0m\u001b[0;34m-\u001b[0m\u001b[0;34m-\u001b[0m\u001b[0;34m-\u001b[0m\u001b[0;34m\u001b[0m\u001b[0;34m\u001b[0m\u001b[0m\n\u001b[1;32m   9951\u001b[0m         \u001b[0msteps\u001b[0m \u001b[0;34m:\u001b[0m \u001b[0mint\u001b[0m\u001b[0;34m\u001b[0m\u001b[0;34m\u001b[0m\u001b[0m\n\u001b[1;32m   9952\u001b[0m             \u001b[0mthe\u001b[0m \u001b[0mnumber\u001b[0m \u001b[0mof\u001b[0m \u001b[0mtime\u001b[0m \u001b[0msteps\u001b[0m \u001b[0mto\u001b[0m \u001b[0mtake\u001b[0m\u001b[0;34m\u001b[0m\u001b[0;34m\u001b[0m\u001b[0m\n\u001b[1;32m   9953\u001b[0m         \"\"\"\n\u001b[0;32m-> 9954\u001b[0;31m         \u001b[0;32mreturn\u001b[0m \u001b[0m_openmm\u001b[0m\u001b[0;34m.\u001b[0m\u001b[0mLangevinIntegrator_step\u001b[0m\u001b[0;34m(\u001b[0m\u001b[0mself\u001b[0m\u001b[0;34m,\u001b[0m \u001b[0msteps\u001b[0m\u001b[0;34m)\u001b[0m\u001b[0;34m\u001b[0m\u001b[0;34m\u001b[0m\u001b[0m\n\u001b[0m",
      "\u001b[0;31mKeyboardInterrupt\u001b[0m: "
     ]
    }
   ],
   "source": [
    "from easyMD.utils import run_sim_local\n",
    "run_sim_local(sim_dir)\n",
    "\n",
    "### Continuing a previous sim? Use this instead:\n",
    "#from pathlib import Path\n",
    "#sim_dir = Path('experiments/example_1AKI_1/simulations')\n",
    "#run_sim(sim_dir, continue_from_previous_sim=True, continue_sim_steps=500000*1) #continues sim for 1ns"
   ]
  },
  {
   "cell_type": "markdown",
   "metadata": {},
   "source": [
    "### OPTION 2) Submit it to a queue on Wynton"
   ]
  },
  {
   "cell_type": "code",
   "execution_count": null,
   "metadata": {},
   "outputs": [],
   "source": [
    "# from easyMD.utils import run_sim_wynton\n",
    "# run_sim_wynton(sim_dir, continue_from_previous_sim=False, continue_sim_steps=None, mem='4G', max_runtime='2:00:00') #2 hour max runtime.\n",
    "\n",
    "## Continuing a previous sim? Use this instead:\n",
    "from easyMD.utils import run_sim_wynton\n",
    "from pathlib import Path\n",
    "sim_dir = Path('experiments/example_1AKI_1/simulations')\n",
    "run_sim_wynton(sim_dir, max_runtime='2:00:00', continue_from_previous_sim=True, continue_sim_steps=500000*1) #continues sim for 1ns"
   ]
  },
  {
   "cell_type": "markdown",
   "metadata": {},
   "source": [
    "# View Trajectory\n",
    "\n",
    "Already ran a sim, and just want to do the analysis?\n",
    "\n",
    "No need to run the rest of the notebook. Just specify the experiment name at the top before moving on."
   ]
  },
  {
   "cell_type": "code",
   "execution_count": 9,
   "metadata": {},
   "outputs": [],
   "source": [
    "sim_parameters_file = sim_dir / 'simulation_dict.json'\n",
    "\n",
    "from easyMD.utils import read_sim_parameters\n",
    "minimization_steps, \\\n",
    "equilibration_steps,\\\n",
    "production_steps,   \\\n",
    "reporting_interval, \\\n",
    "checkpoint_interval,\\\n",
    "input_pdb_file,     \\\n",
    "sim_dir,            \\\n",
    "processed_dir,      \\\n",
    "experiment_name,    \\\n",
    "forcefield_files,   \\\n",
    "step_size,          \\\n",
    "temperature,        \\\n",
    "only_production      =  read_sim_parameters(sim_parameters_file)"
   ]
  },
  {
   "cell_type": "code",
   "execution_count": 29,
   "metadata": {},
   "outputs": [
    {
     "data": {
      "application/vnd.jupyter.widget-view+json": {
       "model_id": "060eee01cbac419d89d700eb2459ec90",
       "version_major": 2,
       "version_minor": 0
      },
      "text/plain": [
       "NGLWidget(max_frame=99)"
      ]
     },
     "metadata": {},
     "output_type": "display_data"
    }
   ],
   "source": [
    "#show the trajectory from PDB with nglview\n",
    "from easyMD.utils import show_traj\n",
    "from pathlib import Path\n",
    "\n",
    "traj_topology_file = processed_dir / input_pdb_file\n",
    "traj_file = sim_dir / (Path(input_pdb_file).stem + '_prod.dcd')\n",
    "\n",
    "show_traj(traj_topology_file, traj_file, size=(600, 600))"
   ]
  }
 ],
 "metadata": {
  "kernelspec": {
   "display_name": "Python 3 (ipykernel)",
   "language": "python",
   "name": "python3"
  },
  "language_info": {
   "codemirror_mode": {
    "name": "ipython",
    "version": 3
   },
   "file_extension": ".py",
   "mimetype": "text/x-python",
   "name": "python",
   "nbconvert_exporter": "python",
   "pygments_lexer": "ipython3",
   "version": "3.10.13"
  }
 },
 "nbformat": 4,
 "nbformat_minor": 2
}

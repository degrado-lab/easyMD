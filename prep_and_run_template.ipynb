{
 "cells": [
  {
   "cell_type": "markdown",
   "metadata": {},
   "source": [
    "# Prepare and Run OpenMM Simulation"
   ]
  },
  {
   "cell_type": "code",
   "execution_count": null,
   "metadata": {},
   "outputs": [],
   "source": [
    "author          = 'Your Name'\n",
    "experiment_name = 'example_sim'\n",
    "description     = 'A test simulation'\n",
    "experiments_dir = 'experiments/'            #this is where your data will be saved\n",
    "\n",
    "apptainer_path  = './easymd_0.1.0.sif'            #path to the apptainer"
   ]
  },
  {
   "cell_type": "markdown",
   "metadata": {},
   "source": [
    "This notebook allows you to run an OpenMM simulation locally or on a job submission cluster, like Wynton.\n",
    "\n",
    "You may run this notebook top-to-bottom, except where you see cells titled **OPTION**. These indicate places you may choose to run certain code (e.g. running a simulation in the jupyter notebook vs on a cluster).\n",
    "\n",
    "Always specify the experiment name above before skipping down to a section."
   ]
  },
  {
   "cell_type": "code",
   "execution_count": null,
   "metadata": {},
   "outputs": [],
   "source": [
    "#Verify container exists:\n",
    "from pathlib import Path\n",
    "apptainer_path = str(Path(apptainer_path).resolve())\n",
    "assert Path(apptainer_path).exists(), f'Apptainer not found at {apptainer_path}'"
   ]
  },
  {
   "cell_type": "markdown",
   "metadata": {},
   "source": [
    "# Load Starting Structure"
   ]
  },
  {
   "cell_type": "markdown",
   "metadata": {},
   "source": [
    "### OPTION 1) Load local file"
   ]
  },
  {
   "cell_type": "code",
   "execution_count": null,
   "metadata": {},
   "outputs": [],
   "source": [
    "### Using local file? ###\n",
    "input_pdb_file = './4W52_example.pdb'"
   ]
  },
  {
   "cell_type": "markdown",
   "metadata": {},
   "source": [
    "### OPTION 2) Load from PDB"
   ]
  },
  {
   "cell_type": "code",
   "execution_count": null,
   "metadata": {},
   "outputs": [],
   "source": [
    "### Or, using PDB ID? ###\n",
    "# input_pdb_ID = '4W52'\n",
    "\n",
    "# from easyMD.utils import download_pdb\n",
    "# download_pdb(input_pdb_ID)\n",
    "\n",
    "# input_pdb_file = f'{input_pdb_ID}.pdb'"
   ]
  },
  {
   "cell_type": "markdown",
   "metadata": {},
   "source": [
    "# Prepare Simulation"
   ]
  },
  {
   "cell_type": "code",
   "execution_count": null,
   "metadata": {},
   "outputs": [],
   "source": [
    "##########################################\n",
    "############ DIRECTORY SETUP #############\n",
    "##########################################\n",
    "# experiments/\n",
    "#     new_experiment/\n",
    "#         experiment_params.json\n",
    "#         inputs/\n",
    "#             raw/\n",
    "#             processed/\n",
    "#         simulations/\n",
    "#     another_experiment/...\n",
    "\n",
    "from easyMD.utils import setup_experiment_dir, create_dirs\n",
    "from pathlib import Path\n",
    "experiments_dir = Path(experiments_dir)\n",
    "current_experiment_dir, \\\n",
    "inputs_dir,             \\\n",
    "raw_dir,                \\\n",
    "processed_dir,          \\\n",
    "sim_dir                = setup_experiment_dir(experiments_dir, experiment_name)\n",
    "\n",
    "create_dirs([experiments_dir, current_experiment_dir, inputs_dir, raw_dir, processed_dir, sim_dir])\n",
    "\n",
    "#Let's copy the input files to the inputs:\n",
    "import shutil\n",
    "shutil.copy(input_pdb_file, raw_dir)\n",
    "pdb_path = raw_dir / Path(input_pdb_file).name\n",
    "\n",
    "#show structure:\n",
    "from easyMD.utils import show_pdb\n",
    "show_pdb(pdb_path, size=(600, 600), water=True)"
   ]
  },
  {
   "cell_type": "markdown",
   "metadata": {},
   "source": [
    "### Take care during processing!\n",
    "In this step, we make decisions for processing our pdb before the simulation. Here you may think about the following options, and enable or disable in the code below:\n",
    "- Do you want to keep certain heteroatoms?\n",
    "- Do you want to keep all chains, or just one?\n",
    "- Do you want PDBfixer to add missing residues?"
   ]
  },
  {
   "cell_type": "code",
   "execution_count": null,
   "metadata": {},
   "outputs": [],
   "source": [
    "# Which chains are we keeping? Put the chain IDs here.\n",
    "# Empty list means keep all.\n",
    "chains_to_keep = ['A']\n",
    "\n",
    "# Are we using a ligand? List the 3-letter residue name here.\n",
    "# Empty list means no ligand.\n",
    "ligand_resnames = ['BNZ']\n",
    "\n",
    "# If we are automatically generating ligand templates, list the paths.\n",
    "# E.g. ligand_templates = ['./ligand1.SDF', './ligand2.SDF', ...]\n",
    "# Otherwise, ligand_templates = 'automatic'\n",
    "ligand_templates  = 'automatic'"
   ]
  },
  {
   "cell_type": "code",
   "execution_count": null,
   "metadata": {},
   "outputs": [],
   "source": [
    "############################################\n",
    "############ PROCESS INPUT PDB #############\n",
    "############################################\n",
    "\n",
    "### Fix messed up residues\n",
    "from pdbfixer import PDBFixer\n",
    "pdb = PDBFixer(str(pdb_path))\n",
    "\n",
    "### Fix messed up residues\n",
    "pdb.findMissingResidues()\n",
    "pdb.findNonstandardResidues()\n",
    "pdb.replaceNonstandardResidues() \n",
    "pdb.findMissingAtoms()\n",
    "pdb.addMissingAtoms()    #this adds both missing atoms and residues \n",
    "\n",
    "### Remove chains\n",
    "chains_to_delete = [chain.index for chain in pdb.topology.chains() if chain.id not in chains_to_keep]\n",
    "pdb.removeChains(chains_to_delete)\n",
    "\n",
    "### add hydrogens:\n",
    "pdb.addMissingHydrogens(7.0)\n",
    "\n",
    "### print the names of all non-standard residues:\n",
    "standard_residues = ['ALA', 'ARG', 'ASN', 'ASP', 'CYS', 'GLN', 'GLU', 'GLY', 'HIS', 'ILE', 'LEU', 'LYS', 'MET', 'PHE', 'PRO', 'SER', 'THR', 'TRP', 'TYR', 'VAL']\n",
    "nonstandard_residues = []\n",
    "for residue in pdb.topology.residues():\n",
    "    if residue.name not in standard_residues:\n",
    "        nonstandard_residues.append(residue.name)\n",
    "\n",
    "### MAKE MODELLER OBJECT:\n",
    "from openmm.app import Modeller\n",
    "modeller = Modeller(pdb.topology, pdb.positions)\n",
    "\n",
    "### Delete all nonstandard residues except ligand:\n",
    "to_delete = []\n",
    "for residue in modeller.topology.residues():\n",
    "    if residue.name in nonstandard_residues and residue.name not in ligand_resnames:\n",
    "        to_delete.append(residue)\n",
    "modeller.delete(to_delete)\n",
    "\n",
    "### Write out the cleaned PDB file:\n",
    "from openmm.app import PDBFile\n",
    "#import tempfile:\n",
    "import tempfile\n",
    "cleaned_pdb_path = Path(tempfile.mkstemp(suffix='.pdb')[1])\n",
    "#cleaned_pdb_path = processed_dir / (str(Path(input_pdb_file).stem) + '_cleaned.pdb')\n",
    "PDBFile.writeFile(modeller.topology, modeller.positions, str(cleaned_pdb_path))\n",
    "\n",
    "### Add Solvent:\n",
    "pdb = PDBFixer(str(cleaned_pdb_path))\n",
    "from openmm import unit as openmm_unit\n",
    "pdb.addSolvent(padding=10*openmm_unit.angstroms, ionicStrength=0.15*openmm_unit.molar)\n",
    "\n",
    "### Write out the Processed pdb\n",
    "print('Writing out the processed input pdb...')\n",
    "processed_pdb_path = processed_dir / Path(input_pdb_file).name\n",
    "PDBFile.writeFile(pdb.topology, pdb.positions, str(processed_dir / Path(input_pdb_file).name ))\n",
    "\n",
    "### Extract and correct ligands, if using:\n",
    "from easyMD.utils import extract_and_correct_ligand\n",
    "using_manual_templates = False if ligand_templates == 'automatic' else True\n",
    "if ligand_resnames:\n",
    "    for i, ligand_resname in enumerate(ligand_resnames):\n",
    "        current_template = None\n",
    "        if using_manual_templates: current_template = ligand_templates[i]\n",
    "        extract_and_correct_ligand(pdb, ligand_resname , processed_dir / 'ligands' / f'{ligand_resname}.sdf', current_template)\n",
    "\n",
    "### Output:\n",
    "print('Done!')\n",
    "print('Number of atoms:', pdb.topology.getNumAtoms())\n",
    "\n",
    "from easyMD.utils import show_pdb\n",
    "show_pdb(processed_pdb_path, size=(600, 600), water=True)"
   ]
  },
  {
   "cell_type": "markdown",
   "metadata": {},
   "source": [
    "# Prepare Files\n",
    "\n",
    "**Starting a fresh simulation?** Adjust the parameters below, and continue through this section.\n",
    "\n",
    "**Continuing a simulation?** Skip to the cells titled Option 1) or Option 2). In each, there is a flag called `continue_from_previous_sim` - set this to `True`. Also specify the number of new steps you want to run with `continue_sim_steps`."
   ]
  },
  {
   "cell_type": "code",
   "execution_count": null,
   "metadata": {},
   "outputs": [],
   "source": [
    "############################################\n",
    "############# SIM PARAMETERS ###############\n",
    "############################################\n",
    "\n",
    "step_size           = 0.002             # picoseconds\n",
    "temperature         = 300               # kelvin\n",
    "\n",
    "### Forcefield:\n",
    "forcefield_files = ['amber14-all.xml', 'amber14/tip3p.xml']     #['amber14-all.xml', 'amber14/tip3p.xml'] is recommended if using a ligand! (Since it works with GAFF)\n",
    "\n",
    "### Simulation steps:\n",
    "minimization_steps  = 0                  # 0 means run until convergence, recommended.\n",
    "equilibration_steps = 10000\n",
    "production_steps    = 500000 * 50        # 500000 = 1 ns. On a 4080TI, this takes around 2 minutes for a small system.\n",
    "\n",
    "### Saving:\n",
    "reporting_interval  = 5000               # How frequently do you want to save frames?\n",
    "checkpoint_interval = 500000             # How frequently do you want to save checkpoints? (This is for restarting failed or finished simulations).\n",
    "\n",
    "### Skipping and Relaunching Simulations:\n",
    "only_production = False                  # If True, will skip equilibration and minimization."
   ]
  },
  {
   "cell_type": "code",
   "execution_count": null,
   "metadata": {},
   "outputs": [],
   "source": [
    "### arguments for simulations script:\n",
    "from easyMD.utils import write_sim_parameters\n",
    "import datetime\n",
    "#from easyMD import __version__ as easyMD_version\n",
    "easyMD_version = \"0.1.0\"\n",
    "\n",
    "parameters = {\n",
    "    \"metadata\":{\n",
    "        \"author\":           author,\n",
    "        \"date\":             datetime.datetime.now().strftime(\"%Y-%m-%d %H:%M:%S\"),\n",
    "        \"experiment_name\":  experiment_name,\n",
    "        \"description\":      description,\n",
    "        \"version\":          easyMD_version\n",
    "    },\n",
    "    \"paths\": {\n",
    "        \"experiment_dir\":           str(current_experiment_dir.resolve()),\n",
    "        \"inputs\":{\n",
    "            \"input_dir\":            \"inputs/processed\",\n",
    "            \"input_pdb_file\":       processed_pdb_path.name,\n",
    "            \"input_ligand_files\":   [ f'ligands/{ligand_resname}.sdf' for ligand_resname in ligand_resnames ]\n",
    "        },\n",
    "        \"outputs\": {\n",
    "            \"output_dir\": \"simulations\",\n",
    "            \"output_minim_file\":    f'{experiment_name}_minim.pdb',\n",
    "            \"output_eq_file\":       f'{experiment_name}_equil.dcd',\n",
    "            \"output_prod_file\":     f'{experiment_name}_prod.dcd',\n",
    "            \"output_checkpoint_file\": f'{experiment_name}_prod.chk'\n",
    "        }\n",
    "    },\n",
    "    \"simulation\": {\n",
    "        \"minimization_steps\":   minimization_steps,\n",
    "        \"equilibration_steps\":  equilibration_steps,\n",
    "        \"production_steps\":     production_steps,\n",
    "        \"reporting_interval\":   reporting_interval,\n",
    "        \"checkpoint_interval\":  checkpoint_interval,\n",
    "        \"forcefield_files\":     forcefield_files,\n",
    "        \"step_size\":            step_size,\n",
    "        \"temperature\":          temperature,\n",
    "        \"only_production\":      only_production\n",
    "    }\n",
    "}\n",
    "\n",
    "import json\n",
    "parameters_file = current_experiment_dir / 'parameters.json'\n",
    "with open(parameters_file, 'w') as f:\n",
    "    json.dump(parameters, f, indent=4)"
   ]
  },
  {
   "cell_type": "markdown",
   "metadata": {},
   "source": [
    "### OPTION 1) Run Locally\n",
    "This will run in the notebook. If you stop the notebook or kill your connection, the simulation will stop."
   ]
  },
  {
   "cell_type": "code",
   "execution_count": null,
   "metadata": {
    "scrolled": true
   },
   "outputs": [],
   "source": [
    "# from easyMD.utils import run_sim_local\n",
    "# run_sim_local(parameters_file)"
   ]
  },
  {
   "cell_type": "markdown",
   "metadata": {},
   "source": [
    "### OPTION 2) Submit it to a queue on Wynton"
   ]
  },
  {
   "cell_type": "code",
   "execution_count": null,
   "metadata": {},
   "outputs": [],
   "source": [
    "from easyMD.utils import run_sim_wynton\n",
    "\n",
    "run_sim_wynton(apptainer_path, parameters_file, max_runtime='0:30:00', repeat=5)"
   ]
  },
  {
   "cell_type": "markdown",
   "metadata": {},
   "source": [
    "# View Trajectory\n",
    "\n",
    "Already ran a sim, and just want to do the analysis?\n",
    "\n",
    "No need to run the rest of the notebook. Just specify the path to the params file for your current experiment:"
   ]
  },
  {
   "cell_type": "code",
   "execution_count": null,
   "metadata": {},
   "outputs": [],
   "source": [
    "path_to_parameters_file = \"./experiments/example_sim/parameters.json\"\n",
    "\n",
    "import json\n",
    "import os\n",
    "with open(path_to_parameters_file, 'r') as f:\n",
    "    parameters = json.load(f)\n",
    "experiment_dir          = parameters['paths']['experiment_dir']\n",
    "sim_dir                 = os.path.join(experiment_dir, parameters['paths']['outputs']['output_dir'])\n",
    "traj_topology_file      = os.path.join(sim_dir, parameters['paths']['outputs']['output_minim_file'])\n",
    "traj_file               = os.path.join(sim_dir, parameters['paths']['outputs']['output_prod_file'])\n",
    "\n",
    "#show the trajectory from PDB with nglview\n",
    "from easyMD.utils import show_traj\n",
    "from pathlib import Path\n",
    "\n",
    "show_traj(traj_topology_file, traj_file, size=(600, 600))"
   ]
  }
 ],
 "metadata": {
  "kernelspec": {
   "display_name": "Python 3 (ipykernel)",
   "language": "python",
   "name": "python3"
  },
  "language_info": {
   "codemirror_mode": {
    "name": "ipython",
    "version": 3
   },
   "file_extension": ".py",
   "mimetype": "text/x-python",
   "name": "python",
   "nbconvert_exporter": "python",
   "pygments_lexer": "ipython3",
   "version": "3.10.13"
  }
 },
 "nbformat": 4,
 "nbformat_minor": 4
}

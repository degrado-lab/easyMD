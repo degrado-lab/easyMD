{
 "cells": [
  {
   "cell_type": "markdown",
   "metadata": {},
   "source": [
    "# Prepare and Run OpenMM Simulation"
   ]
  },
  {
   "cell_type": "code",
   "execution_count": 14,
   "metadata": {},
   "outputs": [],
   "source": [
    "experiment_name = 'example_1AKI_1'"
   ]
  },
  {
   "cell_type": "markdown",
   "metadata": {},
   "source": [
    "This notebook allows you to run an OpenMM simulation locally or on a job submission cluster, like Wynton.\n",
    "\n",
    "You may run this notebook top-to-bottom, except where you see cells titled **OPTION**. These indicate places you may choose to run certain code (e.g. running a simulation in the jupyter notebook vs on a cluster).\n",
    "\n",
    "Always specify the experiment name above before skipping down to a section."
   ]
  },
  {
   "cell_type": "markdown",
   "metadata": {},
   "source": [
    "# Load Starting Structure"
   ]
  },
  {
   "cell_type": "markdown",
   "metadata": {},
   "source": [
    "### OPTION 1) Load local file"
   ]
  },
  {
   "cell_type": "code",
   "execution_count": 3,
   "metadata": {},
   "outputs": [],
   "source": [
    "### Using local file? ###\n",
    "input_pdb_file = './example_1AKI.pdb'"
   ]
  },
  {
   "cell_type": "markdown",
   "metadata": {},
   "source": [
    "### OPTION 2) Load from PDB"
   ]
  },
  {
   "cell_type": "code",
   "execution_count": 2,
   "metadata": {},
   "outputs": [
    {
     "data": {
      "application/vnd.jupyter.widget-view+json": {
       "model_id": "5bb4ddc28b344b2484ef9c954253bf83",
       "version_major": 2,
       "version_minor": 0
      },
      "text/plain": []
     },
     "metadata": {},
     "output_type": "display_data"
    },
    {
     "name": "stdout",
     "output_type": "stream",
     "text": [
      "Successfully downloaded 1AKI.pdb\n"
     ]
    }
   ],
   "source": [
    "### Or, using PDB ID? ###\n",
    "input_pdb_ID = '1AKI'\n",
    "\n",
    "from easyMD.utils import download_pdb\n",
    "download_pdb(input_pdb_ID)\n",
    "\n",
    "input_pdb_file = f'{input_pdb_ID}.pdb'"
   ]
  },
  {
   "cell_type": "markdown",
   "metadata": {},
   "source": [
    "# Prepare Simulation"
   ]
  },
  {
   "cell_type": "code",
   "execution_count": 3,
   "metadata": {},
   "outputs": [
    {
     "data": {
      "application/vnd.jupyter.widget-view+json": {
       "model_id": "15aedb0353c64b7c891e71d7ce9f4037",
       "version_major": 2,
       "version_minor": 0
      },
      "text/plain": [
       "NGLWidget()"
      ]
     },
     "metadata": {},
     "output_type": "display_data"
    }
   ],
   "source": [
    "##########################################\n",
    "############ DIRECTORY SETUP #############\n",
    "##########################################\n",
    "# experiments/\n",
    "#     new_experiment/\n",
    "#         inputs/\n",
    "#             raw/\n",
    "#             processed/\n",
    "#         simulations/\n",
    "#     another_experiment/...\n",
    "from easyMD.utils import setup_experiment_dir, create_dirs\n",
    "from pathlib import Path\n",
    "experiments_dir = Path('experiments')\n",
    "current_experiment_dir, \\\n",
    "inputs_dir,             \\\n",
    "raw_dir,                \\\n",
    "processed_dir,          \\\n",
    "sim_dir                = setup_experiment_dir(experiments_dir, experiment_name)\n",
    "\n",
    "create_dirs([experiments_dir, current_experiment_dir, inputs_dir, raw_dir, processed_dir, sim_dir])\n",
    "\n",
    "#Let's copy the input files to the inputs:\n",
    "import shutil\n",
    "shutil.copy(input_pdb_file, raw_dir)\n",
    "pdb_path = raw_dir / Path(input_pdb_file).name\n",
    "\n",
    "#show structure:\n",
    "from easyMD.utils import show_pdb\n",
    "show_pdb(pdb_path, size=(600, 600), water=True)"
   ]
  },
  {
   "cell_type": "markdown",
   "metadata": {},
   "source": [
    "### Take care during processing!\n",
    "In this step, we make decisions for processing our pdb before the simulation. Here you may think about the following options, and enable or disable in the code below:\n",
    "- Do you want to keep certain heteroatoms?\n",
    "- Do you want to keep all chains, or just one?\n",
    "- Do you want PDBfixer to add missing residues?"
   ]
  },
  {
   "cell_type": "code",
   "execution_count": 16,
   "metadata": {},
   "outputs": [],
   "source": [
    "# Which chains are we keeping? Put the chain IDs here.\n",
    "# Empty list means keep all.\n",
    "chains_to_keep = ['A']\n",
    "\n",
    "# Are we using a ligand? List the 3-letter residue name here.\n",
    "# Empty list means no ligand.\n",
    "ligand_resnames = []\n"
   ]
  },
  {
   "cell_type": "code",
   "execution_count": 17,
   "metadata": {},
   "outputs": [
    {
     "name": "stdout",
     "output_type": "stream",
     "text": [
      "Writing out the processed input pdb...\n",
      "Done!\n",
      "Number of atoms: 23121\n"
     ]
    },
    {
     "data": {
      "application/vnd.jupyter.widget-view+json": {
       "model_id": "736ae72f139148839a506727c15a9796",
       "version_major": 2,
       "version_minor": 0
      },
      "text/plain": [
       "NGLWidget()"
      ]
     },
     "metadata": {},
     "output_type": "display_data"
    }
   ],
   "source": [
    "############################################\n",
    "############ PROCESS INPUT PDB #############\n",
    "############################################\n",
    "\n",
    "### Fix messed up residues\n",
    "from pdbfixer import PDBFixer\n",
    "pdb = PDBFixer(str(pdb_path))\n",
    "\n",
    "### Fix messed up residues\n",
    "pdb.findMissingResidues()\n",
    "pdb.findNonstandardResidues()\n",
    "pdb.replaceNonstandardResidues() \n",
    "pdb.findMissingAtoms()\n",
    "pdb.addMissingAtoms()    #this adds both missing atoms and residues \n",
    "\n",
    "### Remove chains\n",
    "chains_to_delete = [chain.index for chain in pdb.topology.chains() if chain.id not in chains_to_keep]\n",
    "pdb.removeChains(chains_to_delete)\n",
    "\n",
    "### add hydrogens:\n",
    "pdb.addMissingHydrogens(7.0)\n",
    "\n",
    "### print the names of all non-standard residues:\n",
    "standard_residues = ['ALA', 'ARG', 'ASN', 'ASP', 'CYS', 'GLN', 'GLU', 'GLY', 'HIS', 'ILE', 'LEU', 'LYS', 'MET', 'PHE', 'PRO', 'SER', 'THR', 'TRP', 'TYR', 'VAL']\n",
    "nonstandard_residues = []\n",
    "for residue in pdb.topology.residues():\n",
    "    if residue.name not in standard_residues:\n",
    "        nonstandard_residues.append(residue.name)\n",
    "\n",
    "### MAKE MODELLER OBJECT:\n",
    "from openmm.app import Modeller\n",
    "modeller = Modeller(pdb.topology, pdb.positions)\n",
    "\n",
    "### Delete all nonstandard residues except ligand:\n",
    "to_delete = []\n",
    "for residue in modeller.topology.residues():\n",
    "    if residue.name in nonstandard_residues and residue.name not in ligand_resnames:\n",
    "        to_delete.append(residue)\n",
    "modeller.delete(to_delete)\n",
    "\n",
    "### Write out the cleaned PDB file:\n",
    "from openmm.app import PDBFile\n",
    "cleaned_pdb_path = processed_dir / (str(Path(input_pdb_file).stem) + '_cleaned.pdb')\n",
    "PDBFile.writeFile(modeller.topology, modeller.positions, str(cleaned_pdb_path))\n",
    "\n",
    "### Add Solvent:\n",
    "pdb = PDBFixer(str(cleaned_pdb_path))\n",
    "from openmm import unit as openmm_unit\n",
    "pdb.addSolvent(padding=10*openmm_unit.angstroms)\n",
    "\n",
    "### Write out the Processed pdb\n",
    "print('Writing out the processed input pdb...')\n",
    "processed_pdb_path = processed_dir / Path(input_pdb_file).name\n",
    "PDBFile.writeFile(pdb.topology, pdb.positions, str(processed_dir / Path(input_pdb_file).name ))\n",
    "\n",
    "print('Done!')\n",
    "print('Number of atoms:', pdb.topology.getNumAtoms())\n",
    "\n",
    "# show with nglview:\n",
    "from easyMD.utils import show_pdb\n",
    "show_pdb(processed_pdb_path, size=(600, 600), water=True)"
   ]
  },
  {
   "cell_type": "markdown",
   "metadata": {},
   "source": [
    "# Run Simulation\n",
    "\n",
    "**Starting a fresh simulation?** Adjust the parameters below, and continue through this section.\n",
    "\n",
    "**Continuing a simulation?** Skip to the cells titled Option 1) or Option 2). In each, there is a flag called `continue_from_previous_sim` - set this to `True`. Also specify the number of new steps you want to run with `continue_sim_steps`."
   ]
  },
  {
   "cell_type": "code",
   "execution_count": 4,
   "metadata": {},
   "outputs": [],
   "source": [
    "############################################\n",
    "############# SIM PARAMETERS ###############\n",
    "############################################\n",
    "\n",
    "step_size           = 0.002             # picoseconds\n",
    "temperature         = 300               # kelvin\n",
    "\n",
    "### Forcefield:\n",
    "forcefield_files = ['amber14-all.xml', 'amber14/tip3p.xml']     #['amber14-all.xml', 'amber14/tip3p.xml'] is recommended if using a ligand! (Since it works with GAFF)\n",
    "\n",
    "### Simulation steps:\n",
    "minimization_steps  = 0                  # 0 means run until convergence, recommended.\n",
    "equilibration_steps = 10000\n",
    "production_steps    = 500000 * 10        # 500000 = 1 ns. On a 4080TI, this takes around 2 minutes for a small system.\n",
    "\n",
    "### Saving:\n",
    "reporting_interval  = 5000               # How frequently do you want to save frames?\n",
    "checkpoint_interval = 500000             # How frequently do you want to save checkpoints? (This is for restarting failed or finished simulations).\n",
    "\n",
    "### Skipping and Relaunching Simulations:\n",
    "only_production = False                  # If True, will skip equilibration and minimization."
   ]
  },
  {
   "cell_type": "code",
   "execution_count": 5,
   "metadata": {},
   "outputs": [
    {
     "ename": "NameError",
     "evalue": "name 'input_pdb_file' is not defined",
     "output_type": "error",
     "traceback": [
      "\u001b[0;31m---------------------------------------------------------------------------\u001b[0m",
      "\u001b[0;31mNameError\u001b[0m                                 Traceback (most recent call last)",
      "Cell \u001b[0;32mIn[5], line 9\u001b[0m\n\u001b[1;32m      1\u001b[0m \u001b[38;5;66;03m### arguments for simulations script:\u001b[39;00m\n\u001b[1;32m      2\u001b[0m \u001b[38;5;28;01mfrom\u001b[39;00m \u001b[38;5;21;01measyMD\u001b[39;00m\u001b[38;5;21;01m.\u001b[39;00m\u001b[38;5;21;01mutils\u001b[39;00m \u001b[38;5;28;01mimport\u001b[39;00m write_sim_parameters\n\u001b[1;32m      4\u001b[0m sim_parameter_dict \u001b[38;5;241m=\u001b[39m   {\u001b[38;5;124m'\u001b[39m\u001b[38;5;124mminimization_steps\u001b[39m\u001b[38;5;124m'\u001b[39m: minimization_steps,\n\u001b[1;32m      5\u001b[0m                         \u001b[38;5;124m'\u001b[39m\u001b[38;5;124mequilibration_steps\u001b[39m\u001b[38;5;124m'\u001b[39m: equilibration_steps,\n\u001b[1;32m      6\u001b[0m                         \u001b[38;5;124m'\u001b[39m\u001b[38;5;124mproduction_steps\u001b[39m\u001b[38;5;124m'\u001b[39m: production_steps,\n\u001b[1;32m      7\u001b[0m                         \u001b[38;5;124m'\u001b[39m\u001b[38;5;124mreporting_interval\u001b[39m\u001b[38;5;124m'\u001b[39m: reporting_interval,\n\u001b[1;32m      8\u001b[0m                         \u001b[38;5;124m'\u001b[39m\u001b[38;5;124mcheckpoint_interval\u001b[39m\u001b[38;5;124m'\u001b[39m: checkpoint_interval,\n\u001b[0;32m----> 9\u001b[0m                         \u001b[38;5;124m'\u001b[39m\u001b[38;5;124minput_pdb_file\u001b[39m\u001b[38;5;124m'\u001b[39m: \u001b[43minput_pdb_file\u001b[49m,\n\u001b[1;32m     10\u001b[0m                         \u001b[38;5;124m'\u001b[39m\u001b[38;5;124msim_dir\u001b[39m\u001b[38;5;124m'\u001b[39m: \u001b[38;5;28mstr\u001b[39m(sim_dir),\n\u001b[1;32m     11\u001b[0m                         \u001b[38;5;124m'\u001b[39m\u001b[38;5;124mprocessed_dir\u001b[39m\u001b[38;5;124m'\u001b[39m: \u001b[38;5;28mstr\u001b[39m(processed_dir),\n\u001b[1;32m     12\u001b[0m                         \u001b[38;5;124m'\u001b[39m\u001b[38;5;124mexperiment_name\u001b[39m\u001b[38;5;124m'\u001b[39m: experiment_name,\n\u001b[1;32m     13\u001b[0m                         \u001b[38;5;124m'\u001b[39m\u001b[38;5;124mforcefield_files\u001b[39m\u001b[38;5;124m'\u001b[39m: forcefield_files,\n\u001b[1;32m     14\u001b[0m                         \u001b[38;5;124m'\u001b[39m\u001b[38;5;124mstep_size\u001b[39m\u001b[38;5;124m'\u001b[39m: step_size,\n\u001b[1;32m     15\u001b[0m                         \u001b[38;5;124m'\u001b[39m\u001b[38;5;124mtemperature\u001b[39m\u001b[38;5;124m'\u001b[39m: temperature,\n\u001b[1;32m     16\u001b[0m                         \u001b[38;5;124m'\u001b[39m\u001b[38;5;124monly_production\u001b[39m\u001b[38;5;124m'\u001b[39m: only_production      \u001b[38;5;66;03m#this is a flag to only run production, for when we want to continue a simulation\u001b[39;00m\n\u001b[1;32m     17\u001b[0m                         }       \n\u001b[1;32m     19\u001b[0m write_sim_parameters( sim_dir \u001b[38;5;241m/\u001b[39m \u001b[38;5;124m'\u001b[39m\u001b[38;5;124msimulation_dict.json\u001b[39m\u001b[38;5;124m'\u001b[39m, sim_parameter_dict)\n",
      "\u001b[0;31mNameError\u001b[0m: name 'input_pdb_file' is not defined"
     ]
    }
   ],
   "source": [
    "### arguments for simulations script:\n",
    "from easyMD.utils import write_sim_parameters\n",
    "\n",
    "sim_parameter_dict =   {'minimization_steps': minimization_steps,\n",
    "                        'equilibration_steps': equilibration_steps,\n",
    "                        'production_steps': production_steps,\n",
    "                        'reporting_interval': reporting_interval,\n",
    "                        'checkpoint_interval': checkpoint_interval,\n",
    "                        'input_pdb_file': input_pdb_file,\n",
    "                        'sim_dir': str(sim_dir),\n",
    "                        'processed_dir': str(processed_dir),\n",
    "                        'experiment_name': experiment_name,\n",
    "                        'forcefield_files': forcefield_files,\n",
    "                        'step_size': step_size,\n",
    "                        'temperature': temperature,\n",
    "                        'only_production': only_production      #this is a flag to only run production, for when we want to continue a simulation\n",
    "                        }       \n",
    "\n",
    "write_sim_parameters( sim_dir / 'simulation_dict.json', sim_parameter_dict)"
   ]
  },
  {
   "cell_type": "markdown",
   "metadata": {},
   "source": [
    "### OPTION 1) Run Locally\n",
    "This will run in the notebook. If you stop the notebook or kill your connection, the simulation will stop."
   ]
  },
  {
   "cell_type": "code",
   "execution_count": 7,
   "metadata": {},
   "outputs": [
    {
     "name": "stdout",
     "output_type": "stream",
     "text": [
      "Continuing simulation from checkpoint file...\n",
      "Running production...\n",
      "30000,-299887.70361360215,299.92388161430296\n",
      "35000,-299598.4962324894,296.8108542496336\n"
     ]
    },
    {
     "ename": "KeyboardInterrupt",
     "evalue": "",
     "output_type": "error",
     "traceback": [
      "\u001b[0;31m---------------------------------------------------------------------------\u001b[0m",
      "\u001b[0;31mKeyboardInterrupt\u001b[0m                         Traceback (most recent call last)",
      "\u001b[0;32m/tmp/ipykernel_26046/1912150940.py\u001b[0m in \u001b[0;36m?\u001b[0;34m()\u001b[0m\n\u001b[1;32m      1\u001b[0m \u001b[0;32mfrom\u001b[0m \u001b[0measyMD\u001b[0m\u001b[0;34m.\u001b[0m\u001b[0mutils\u001b[0m \u001b[0;32mimport\u001b[0m \u001b[0mrun_sim\u001b[0m\u001b[0;34m\u001b[0m\u001b[0;34m\u001b[0m\u001b[0m\n\u001b[1;32m      2\u001b[0m \u001b[0;32mfrom\u001b[0m \u001b[0mpathlib\u001b[0m \u001b[0;32mimport\u001b[0m \u001b[0mPath\u001b[0m\u001b[0;34m\u001b[0m\u001b[0;34m\u001b[0m\u001b[0m\n\u001b[1;32m      3\u001b[0m \u001b[0msim_dir\u001b[0m \u001b[0;34m=\u001b[0m \u001b[0mPath\u001b[0m\u001b[0;34m(\u001b[0m\u001b[0;34m'experiments/example_1AKI_1/simulations'\u001b[0m\u001b[0;34m)\u001b[0m\u001b[0;34m\u001b[0m\u001b[0;34m\u001b[0m\u001b[0m\n\u001b[0;32m----> 4\u001b[0;31m \u001b[0mrun_sim\u001b[0m\u001b[0;34m(\u001b[0m\u001b[0msim_dir\u001b[0m\u001b[0;34m,\u001b[0m \u001b[0mcontinue_from_previous_sim\u001b[0m\u001b[0;34m=\u001b[0m\u001b[0;32mTrue\u001b[0m\u001b[0;34m,\u001b[0m \u001b[0mcontinue_sim_steps\u001b[0m\u001b[0;34m=\u001b[0m\u001b[0;36m500000\u001b[0m\u001b[0;34m*\u001b[0m\u001b[0;36m0.01\u001b[0m\u001b[0;34m)\u001b[0m\u001b[0;34m\u001b[0m\u001b[0;34m\u001b[0m\u001b[0m\n\u001b[0m\u001b[1;32m      5\u001b[0m \u001b[0;31m#run_sim(sim_dir)\u001b[0m\u001b[0;34m\u001b[0m\u001b[0;34m\u001b[0m\u001b[0m\n",
      "\u001b[0;32m~/workspace/easyMD/easyMD/utils/run_simulation.py\u001b[0m in \u001b[0;36m?\u001b[0;34m(sim_dir, continue_from_previous_sim, continue_sim_steps)\u001b[0m\n\u001b[1;32m    105\u001b[0m     \u001b[0msimulation\u001b[0m\u001b[0;34m.\u001b[0m\u001b[0mreporters\u001b[0m\u001b[0;34m.\u001b[0m\u001b[0mclear\u001b[0m\u001b[0;34m(\u001b[0m\u001b[0;34m)\u001b[0m\u001b[0;34m\u001b[0m\u001b[0;34m\u001b[0m\u001b[0m\n\u001b[1;32m    106\u001b[0m     \u001b[0msimulation\u001b[0m\u001b[0;34m.\u001b[0m\u001b[0mreporters\u001b[0m\u001b[0;34m.\u001b[0m\u001b[0mappend\u001b[0m\u001b[0;34m(\u001b[0m\u001b[0mDCDReporter\u001b[0m\u001b[0;34m(\u001b[0m        \u001b[0msim_dir\u001b[0m \u001b[0;34m/\u001b[0m \u001b[0;34m(\u001b[0m\u001b[0mstr\u001b[0m\u001b[0;34m(\u001b[0m\u001b[0mPath\u001b[0m\u001b[0;34m(\u001b[0m\u001b[0minput_pdb_file\u001b[0m\u001b[0;34m)\u001b[0m\u001b[0;34m.\u001b[0m\u001b[0mstem\u001b[0m\u001b[0;34m)\u001b[0m \u001b[0;34m+\u001b[0m \u001b[0;34m'_prod.dcd'\u001b[0m\u001b[0;34m)\u001b[0m\u001b[0;34m,\u001b[0m \u001b[0mreporting_interval\u001b[0m\u001b[0;34m,\u001b[0m \u001b[0mappend\u001b[0m\u001b[0;34m=\u001b[0m\u001b[0mcontinue_from_previous_sim\u001b[0m\u001b[0;34m)\u001b[0m\u001b[0;34m)\u001b[0m\u001b[0;34m\u001b[0m\u001b[0;34m\u001b[0m\u001b[0m\n\u001b[1;32m    107\u001b[0m     \u001b[0msimulation\u001b[0m\u001b[0;34m.\u001b[0m\u001b[0mreporters\u001b[0m\u001b[0;34m.\u001b[0m\u001b[0mappend\u001b[0m\u001b[0;34m(\u001b[0m\u001b[0mStateDataReporter\u001b[0m\u001b[0;34m(\u001b[0m  \u001b[0msys\u001b[0m\u001b[0;34m.\u001b[0m\u001b[0mstdout\u001b[0m\u001b[0;34m,\u001b[0m \u001b[0mreporting_interval\u001b[0m\u001b[0;34m,\u001b[0m \u001b[0mstep\u001b[0m\u001b[0;34m=\u001b[0m\u001b[0;32mTrue\u001b[0m\u001b[0;34m,\u001b[0m \u001b[0mpotentialEnergy\u001b[0m\u001b[0;34m=\u001b[0m\u001b[0;32mTrue\u001b[0m\u001b[0;34m,\u001b[0m \u001b[0mtemperature\u001b[0m\u001b[0;34m=\u001b[0m\u001b[0;32mTrue\u001b[0m\u001b[0;34m,\u001b[0m \u001b[0mappend\u001b[0m\u001b[0;34m=\u001b[0m\u001b[0mcontinue_from_previous_sim\u001b[0m\u001b[0;34m)\u001b[0m\u001b[0;34m)\u001b[0m\u001b[0;34m\u001b[0m\u001b[0;34m\u001b[0m\u001b[0m\n\u001b[1;32m    108\u001b[0m     \u001b[0msimulation\u001b[0m\u001b[0;34m.\u001b[0m\u001b[0mreporters\u001b[0m\u001b[0;34m.\u001b[0m\u001b[0mappend\u001b[0m\u001b[0;34m(\u001b[0m\u001b[0mCheckpointReporter\u001b[0m\u001b[0;34m(\u001b[0m \u001b[0mstr\u001b[0m\u001b[0;34m(\u001b[0m\u001b[0msim_dir\u001b[0m \u001b[0;34m/\u001b[0m \u001b[0;34m(\u001b[0m\u001b[0mstr\u001b[0m\u001b[0;34m(\u001b[0m\u001b[0mPath\u001b[0m\u001b[0;34m(\u001b[0m\u001b[0minput_pdb_file\u001b[0m\u001b[0;34m)\u001b[0m\u001b[0;34m.\u001b[0m\u001b[0mstem\u001b[0m\u001b[0;34m)\u001b[0m \u001b[0;34m+\u001b[0m \u001b[0;34m'_prod.chk'\u001b[0m\u001b[0;34m)\u001b[0m\u001b[0;34m)\u001b[0m\u001b[0;34m,\u001b[0m \u001b[0mcheckpoint_interval\u001b[0m\u001b[0;34m)\u001b[0m\u001b[0;34m)\u001b[0m\u001b[0;34m\u001b[0m\u001b[0;34m\u001b[0m\u001b[0m\n\u001b[0;32m--> 109\u001b[0;31m     \u001b[0msimulation\u001b[0m\u001b[0;34m.\u001b[0m\u001b[0mstep\u001b[0m\u001b[0;34m(\u001b[0m\u001b[0mproduction_steps\u001b[0m\u001b[0;34m)\u001b[0m\u001b[0;34m\u001b[0m\u001b[0;34m\u001b[0m\u001b[0m\n\u001b[0m\u001b[1;32m    110\u001b[0m \u001b[0;34m\u001b[0m\u001b[0m\n\u001b[1;32m    111\u001b[0m     \u001b[0mprint\u001b[0m\u001b[0;34m(\u001b[0m\u001b[0;34m'Done!'\u001b[0m\u001b[0;34m)\u001b[0m\u001b[0;34m\u001b[0m\u001b[0;34m\u001b[0m\u001b[0m\n",
      "\u001b[0;32m~/miniconda3/envs/easyMD/lib/python3.10/site-packages/openmm/app/simulation.py\u001b[0m in \u001b[0;36m?\u001b[0;34m(self, steps)\u001b[0m\n\u001b[1;32m    145\u001b[0m     \u001b[0;32mdef\u001b[0m \u001b[0mstep\u001b[0m\u001b[0;34m(\u001b[0m\u001b[0mself\u001b[0m\u001b[0;34m,\u001b[0m \u001b[0msteps\u001b[0m\u001b[0;34m)\u001b[0m\u001b[0;34m:\u001b[0m\u001b[0;34m\u001b[0m\u001b[0;34m\u001b[0m\u001b[0m\n\u001b[1;32m    146\u001b[0m         \u001b[0;34m\"\"\"Advance the simulation by integrating a specified number of time steps.\"\"\"\u001b[0m\u001b[0;34m\u001b[0m\u001b[0;34m\u001b[0m\u001b[0m\n\u001b[0;32m--> 147\u001b[0;31m         \u001b[0mself\u001b[0m\u001b[0;34m.\u001b[0m\u001b[0m_simulate\u001b[0m\u001b[0;34m(\u001b[0m\u001b[0mendStep\u001b[0m\u001b[0;34m=\u001b[0m\u001b[0mself\u001b[0m\u001b[0;34m.\u001b[0m\u001b[0mcurrentStep\u001b[0m\u001b[0;34m+\u001b[0m\u001b[0msteps\u001b[0m\u001b[0;34m)\u001b[0m\u001b[0;34m\u001b[0m\u001b[0;34m\u001b[0m\u001b[0m\n\u001b[0m",
      "\u001b[0;32m~/miniconda3/envs/easyMD/lib/python3.10/site-packages/openmm/app/simulation.py\u001b[0m in \u001b[0;36m?\u001b[0;34m(self, endStep, endTime)\u001b[0m\n\u001b[1;32m    208\u001b[0m                     \u001b[0mnextSteps\u001b[0m \u001b[0;34m=\u001b[0m \u001b[0mnextReport\u001b[0m\u001b[0;34m[\u001b[0m\u001b[0mi\u001b[0m\u001b[0;34m]\u001b[0m\u001b[0;34m[\u001b[0m\u001b[0;36m0\u001b[0m\u001b[0;34m]\u001b[0m\u001b[0;34m\u001b[0m\u001b[0;34m\u001b[0m\u001b[0m\n\u001b[1;32m    209\u001b[0m                     \u001b[0manyReport\u001b[0m \u001b[0;34m=\u001b[0m \u001b[0;32mTrue\u001b[0m\u001b[0;34m\u001b[0m\u001b[0;34m\u001b[0m\u001b[0m\n\u001b[1;32m    210\u001b[0m             \u001b[0mstepsToGo\u001b[0m \u001b[0;34m=\u001b[0m \u001b[0mnextSteps\u001b[0m\u001b[0;34m\u001b[0m\u001b[0;34m\u001b[0m\u001b[0m\n\u001b[1;32m    211\u001b[0m             \u001b[0;32mwhile\u001b[0m \u001b[0mstepsToGo\u001b[0m \u001b[0;34m>\u001b[0m \u001b[0;36m10\u001b[0m\u001b[0;34m:\u001b[0m\u001b[0;34m\u001b[0m\u001b[0;34m\u001b[0m\u001b[0m\n\u001b[0;32m--> 212\u001b[0;31m                 \u001b[0mself\u001b[0m\u001b[0;34m.\u001b[0m\u001b[0mintegrator\u001b[0m\u001b[0;34m.\u001b[0m\u001b[0mstep\u001b[0m\u001b[0;34m(\u001b[0m\u001b[0;36m10\u001b[0m\u001b[0;34m)\u001b[0m \u001b[0;31m# Only take 10 steps at a time, to give Python more chances to respond to a control-c.\u001b[0m\u001b[0;34m\u001b[0m\u001b[0;34m\u001b[0m\u001b[0m\n\u001b[0m\u001b[1;32m    213\u001b[0m                 \u001b[0mstepsToGo\u001b[0m \u001b[0;34m-=\u001b[0m \u001b[0;36m10\u001b[0m\u001b[0;34m\u001b[0m\u001b[0;34m\u001b[0m\u001b[0m\n\u001b[1;32m    214\u001b[0m                 \u001b[0;32mif\u001b[0m \u001b[0mendTime\u001b[0m \u001b[0;32mis\u001b[0m \u001b[0;32mnot\u001b[0m \u001b[0;32mNone\u001b[0m \u001b[0;32mand\u001b[0m \u001b[0mdatetime\u001b[0m\u001b[0;34m.\u001b[0m\u001b[0mnow\u001b[0m\u001b[0;34m(\u001b[0m\u001b[0;34m)\u001b[0m \u001b[0;34m>=\u001b[0m \u001b[0mendTime\u001b[0m\u001b[0;34m:\u001b[0m\u001b[0;34m\u001b[0m\u001b[0;34m\u001b[0m\u001b[0m\n\u001b[1;32m    215\u001b[0m                     \u001b[0;32mreturn\u001b[0m\u001b[0;34m\u001b[0m\u001b[0;34m\u001b[0m\u001b[0m\n",
      "\u001b[0;32m~/miniconda3/envs/easyMD/lib/python3.10/site-packages/openmm/openmm.py\u001b[0m in \u001b[0;36m?\u001b[0;34m(self, steps)\u001b[0m\n\u001b[1;32m   9950\u001b[0m         \u001b[0;34m-\u001b[0m\u001b[0;34m-\u001b[0m\u001b[0;34m-\u001b[0m\u001b[0;34m-\u001b[0m\u001b[0;34m-\u001b[0m\u001b[0;34m-\u001b[0m\u001b[0;34m-\u001b[0m\u001b[0;34m-\u001b[0m\u001b[0;34m-\u001b[0m\u001b[0;34m-\u001b[0m\u001b[0;34m\u001b[0m\u001b[0;34m\u001b[0m\u001b[0m\n\u001b[1;32m   9951\u001b[0m         \u001b[0msteps\u001b[0m \u001b[0;34m:\u001b[0m \u001b[0mint\u001b[0m\u001b[0;34m\u001b[0m\u001b[0;34m\u001b[0m\u001b[0m\n\u001b[1;32m   9952\u001b[0m             \u001b[0mthe\u001b[0m \u001b[0mnumber\u001b[0m \u001b[0mof\u001b[0m \u001b[0mtime\u001b[0m \u001b[0msteps\u001b[0m \u001b[0mto\u001b[0m \u001b[0mtake\u001b[0m\u001b[0;34m\u001b[0m\u001b[0;34m\u001b[0m\u001b[0m\n\u001b[1;32m   9953\u001b[0m         \"\"\"\n\u001b[0;32m-> 9954\u001b[0;31m         \u001b[0;32mreturn\u001b[0m \u001b[0m_openmm\u001b[0m\u001b[0;34m.\u001b[0m\u001b[0mLangevinIntegrator_step\u001b[0m\u001b[0;34m(\u001b[0m\u001b[0mself\u001b[0m\u001b[0;34m,\u001b[0m \u001b[0msteps\u001b[0m\u001b[0;34m)\u001b[0m\u001b[0;34m\u001b[0m\u001b[0;34m\u001b[0m\u001b[0m\n\u001b[0m",
      "\u001b[0;31mKeyboardInterrupt\u001b[0m: "
     ]
    }
   ],
   "source": [
    "from easyMD.utils import run_sim_local\n",
    "run_sim_local(sim_dir)\n",
    "\n",
    "### Continuing a previous sim? Use this instead:\n",
    "#from pathlib import Path\n",
    "#sim_dir = Path('experiments/example_1AKI_1/simulations')\n",
    "#run_sim(sim_dir, continue_from_previous_sim=True, continue_sim_steps=500000*1) #continues sim for 1ns"
   ]
  },
  {
   "cell_type": "markdown",
   "metadata": {},
   "source": [
    "### OPTION 2) Submit it to a queue on Wynton"
   ]
  },
  {
   "cell_type": "code",
   "execution_count": 1,
   "metadata": {},
   "outputs": [
    {
     "data": {
      "application/vnd.jupyter.widget-view+json": {
       "model_id": "3dd9fb7985114f4c94c79a8edcd9d80a",
       "version_major": 2,
       "version_minor": 0
      },
      "text/plain": []
     },
     "metadata": {},
     "output_type": "display_data"
    },
    {
     "name": "stdout",
     "output_type": "stream",
     "text": [
      "b'experiments/example_1AKI_1/simulations/run_simulation.sh'\n",
      "CompletedProcess(args=['echo', 'experiments/example_1AKI_1/simulations/run_simulation.sh'], returncode=0, stdout=b'experiments/example_1AKI_1/simulations/run_simulation.sh\\n', stderr=b'')\n"
     ]
    }
   ],
   "source": [
    "# from easyMD.utils import run_sim_wynton\n",
    "# run_sim_wynton(sim_dir, continue_from_previous_sim=False, continue_sim_steps=None, mem='4G', max_runtime='2:00:00') #2 hour max runtime.\n",
    "\n",
    "## Continuing a previous sim? Use this instead:\n",
    "from easyMD.utils import run_sim_wynton\n",
    "from pathlib import Path\n",
    "sim_dir = Path('experiments/example_1AKI_1/simulations')\n",
    "run_sim_wynton(sim_dir, max_runtime='2:00:00', continue_from_previous_sim=True, continue_sim_steps=500000*1) #continues sim for 1ns"
   ]
  },
  {
   "cell_type": "markdown",
   "metadata": {},
   "source": [
    "# View Trajectory\n",
    "\n",
    "Already ran a sim, and just want to do the analysis?\n",
    "\n",
    "No need to run the rest of the notebook. Just specify the experiment name at the top before moving on."
   ]
  },
  {
   "cell_type": "code",
   "execution_count": 12,
   "metadata": {},
   "outputs": [],
   "source": [
    "sim_parameters_file = sim_dir / 'simulation_dict.json'\n",
    "\n",
    "from easyMD.utils import read_sim_parameters\n",
    "minimization_steps, \\\n",
    "equilibration_steps,\\\n",
    "production_steps,   \\\n",
    "reporting_interval, \\\n",
    "checkpoint_interval,\\\n",
    "input_pdb_file,     \\\n",
    "sim_dir,            \\\n",
    "processed_dir,      \\\n",
    "experiment_name,    \\\n",
    "forcefield_files,   \\\n",
    "step_size,          \\\n",
    "temperature,        \\\n",
    "only_production      =  read_sim_parameters(sim_parameters_file)"
   ]
  },
  {
   "cell_type": "code",
   "execution_count": 13,
   "metadata": {},
   "outputs": [
    {
     "data": {
      "application/vnd.jupyter.widget-view+json": {
       "model_id": "5bee7116dff246ff9754d969247c3545",
       "version_major": 2,
       "version_minor": 0
      },
      "text/plain": [
       "NGLWidget(max_frame=4)"
      ]
     },
     "metadata": {},
     "output_type": "display_data"
    }
   ],
   "source": [
    "#show the trajectory from PDB with nglview\n",
    "from easyMD.utils import show_traj\n",
    "from pathlib import Path\n",
    "\n",
    "traj_topology_file = processed_dir / input_pdb_file\n",
    "traj_file = sim_dir / (Path(input_pdb_file).stem + '_prod.dcd')\n",
    "\n",
    "show_traj(traj_topology_file, traj_file, size=(600, 600))"
   ]
  }
 ],
 "metadata": {
  "kernelspec": {
   "display_name": "Python 3 (ipykernel)",
   "language": "python",
   "name": "python3"
  },
  "language_info": {
   "codemirror_mode": {
    "name": "ipython",
    "version": 3
   },
   "file_extension": ".py",
   "mimetype": "text/x-python",
   "name": "python",
   "nbconvert_exporter": "python",
   "pygments_lexer": "ipython3",
   "version": "3.10.13"
  }
 },
 "nbformat": 4,
 "nbformat_minor": 2
}
